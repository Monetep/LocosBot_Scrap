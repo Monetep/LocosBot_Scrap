{
 "cells": [
  {
   "cell_type": "markdown",
   "metadata": {},
   "source": [
    "Objetivos de este NB:\n",
    "    -Obtener todos los links de la front page de Polygon.com. COMPLETO\n",
    "    -Entrar a cada uno de los links, y obtener el titulo, y el texto de cada uno. COMPLETO\n",
    "    -Dejar en un formato tabular la informacion con las siguientes columnas: COMPLETO\n",
    "        -Pagina\n",
    "        -Titulo\n",
    "        -Subtitulo\n",
    "        -Parrafos_n"
   ]
  },
  {
   "cell_type": "code",
   "execution_count": 40,
   "metadata": {},
   "outputs": [
    {
     "name": "stderr",
     "output_type": "stream",
     "text": [
      "100%|██████████| 46/46 [02:08<00:00,  2.79s/it]\n"
     ]
    }
   ],
   "source": [
    "from bs4 import BeautifulSoup\n",
    "from urllib.request import Request, urlopen\n",
    "import pandas as pd\n",
    "import random\n",
    "import time\n",
    "import datetime\n",
    "from tqdm import tqdm\n",
    "\n",
    "site= \"https://www.vg247.com/\"\n",
    "hdr = {'User-Agent': 'Mozilla/5.0'}\n",
    "req = Request(site,headers=hdr)\n",
    "page = urlopen(req)\n",
    "soup = BeautifulSoup(page, 'html.parser')\n",
    "final = pd.DataFrame()\n",
    "\n",
    "links_all = soup.select(\"h2 a\")\n",
    "al_lnk=[]\n",
    "\n",
    "for i in range(0, len(links_all)):\n",
    "    al_lnk.append(links_all[i].get('href'))\n",
    "    \n",
    "links2 = soup.select(\"p.title a\")    \n",
    "for i in range(0, len(links2)):\n",
    "    al_lnk.append(links2[i].get('href'))\n",
    "\n",
    "links = pd.DataFrame({\n",
    "        \"links\": al_lnk\n",
    "    })    \n",
    "   \n",
    "lista_links_vg247 = links['links'].drop_duplicates().values.tolist()\n",
    "\n",
    "def scrapeo_vg247(review):\n",
    "                \n",
    "    req = Request(review,headers=hdr)\n",
    "    page = urlopen(req)\n",
    "    soup = BeautifulSoup(page, 'html.parser')\n",
    "\n",
    "    #Title\n",
    "    title = soup.find(\"h1\").get_text()\n",
    "    title = str(title).replace(\"|\", \"\")\n",
    "    #SubTitle\n",
    "    subt = \"\"\n",
    "    \n",
    "    #Parragraphs\n",
    "    pars = soup.select('main p')\n",
    "    parragraphs = [p.get_text() for p in pars]\n",
    "\n",
    "    p_final = []\n",
    "    for i in range(0, len(parragraphs)):   \n",
    "        if (parragraphs[i] != ''):\n",
    "            p_final.append(parragraphs[i].replace(\"|\", \"\"))\n",
    "            \n",
    "    almacenado = pd.DataFrame({\n",
    "            \"site\": '',\n",
    "            \"title\": '',\n",
    "            \"subtitle\": '',\n",
    "            \"parrafo\": p_final\n",
    "        })   \n",
    "    almacenado['site'] = site\n",
    "    almacenado['title'] = title\n",
    "    almacenado['subtitle'] = subt\n",
    "                    \n",
    "    return almacenado\n",
    "\n",
    "for i in tqdm(range(0, len(lista_links_vg247))):    \n",
    "    final = final.append(scrapeo_vg247(lista_links_vg247[i]))\n",
    "    time.sleep(random.randint(1, 2))    \n",
    "    \n",
    "file_time = 'vg247_scrap_{date:%Y-%m-%d_%H_%M_%S}.csv'.format(date=datetime.datetime.now())              \n",
    "final.to_csv(file_time, sep='|', index=False)"
   ]
  },
  {
   "cell_type": "markdown",
   "metadata": {},
   "source": [
    "Desde acá comienza el nb para desarrollo."
   ]
  },
  {
   "cell_type": "code",
   "execution_count": 1,
   "metadata": {},
   "outputs": [],
   "source": [
    "from bs4 import BeautifulSoup\n",
    "from urllib.request import Request, urlopen\n",
    "import pandas as pd\n",
    "import random\n",
    "import time\n",
    "import datetime"
   ]
  },
  {
   "cell_type": "code",
   "execution_count": 3,
   "metadata": {},
   "outputs": [],
   "source": [
    "site= \"https://www.vg247.com/\""
   ]
  },
  {
   "cell_type": "code",
   "execution_count": 4,
   "metadata": {},
   "outputs": [
    {
     "data": {
      "text/plain": [
       "200"
      ]
     },
     "execution_count": 4,
     "metadata": {},
     "output_type": "execute_result"
    }
   ],
   "source": [
    "hdr = {'User-Agent': 'Mozilla/5.0'}\n",
    "req = Request(site,headers=hdr)\n",
    "page = urlopen(req)\n",
    "soup = BeautifulSoup(page, 'html.parser')\n",
    "page.status"
   ]
  },
  {
   "cell_type": "code",
   "execution_count": 15,
   "metadata": {},
   "outputs": [
    {
     "data": {
      "text/plain": [
       "['https://www.vg247.com/2018/09/07/battlefield-5-beta-worst-feature-borrowed-from-star-wars-battlefront-2/',\n",
       " 'https://www.vg247.com/2018/09/08/crackdown-3-xbox-one-content-holiday/',\n",
       " 'https://www.vg247.com/2018/09/08/assassins-creed-odyssey-pc-specs/',\n",
       " 'https://www.vg247.com/2018/09/07/spider-man-ps4-tips-and-tricks/',\n",
       " 'https://www.vg247.com/2018/09/07/spider-man-suits-how-to-unlock-every-outfit-costume/',\n",
       " 'https://www.vg247.com/2018/09/08/fortnite-shifty-shafts-treasure-map-location/',\n",
       " 'https://www.vg247.com/2018/09/08/fortnite-stone-head-locations-map-directions/',\n",
       " 'https://www.vg247.com/2018/09/08/twin-mirror-video-setting/',\n",
       " 'https://www.vg247.com/2018/09/08/immortal-unchained-released-pc-ps4-xbox-one/',\n",
       " 'https://www.vg247.com/2018/09/07/monster-hunter-worlds-autumn-harvest-fest-release/',\n",
       " 'https://www.vg247.com/2018/09/08/switch-online-cloud-saves-not-supported-some-games/',\n",
       " 'https://www.vg247.com/2018/09/07/overkills-the-walking-dead-closed-beta-pc-october/',\n",
       " 'https://www.vg247.com/2018/09/07/overwatch-humble-monthly-october/',\n",
       " 'https://www.vg247.com/2018/09/07/battlefield-5-firestorm-battle-royale-criterion-games/',\n",
       " 'https://www.vg247.com/2018/09/07/red-dead-redemption-story-plot/',\n",
       " 'https://www.vg247.com/2018/09/07/call-of-duty-black-ops-4-blackout-beta-codes-giveaway/',\n",
       " 'https://www.vg247.com/2018/09/07/mega-man-11-free-demo-ps4-switch-xbox-one/',\n",
       " 'https://www.vg247.com/2018/09/07/fortnite-high-stakes-challenges-gameplay-simon-miller/',\n",
       " 'https://www.vg247.com/2018/09/07/fortnite-android-interest-as-high-as-ios-supporting-older-phones-impractical/',\n",
       " 'https://www.vg247.com/2018/09/07/cyberpunk-2077-cd-projekt-red-mike-pondsmith/',\n",
       " 'https://www.vg247.com/2018/09/07/battlefield-5-firestorm-battle-royale-vehicles-destruction-objectives-details/',\n",
       " 'https://www.vg247.com/2018/09/07/spider-man-review-ps4-marvel/',\n",
       " 'https://www.vg247.com/2018/09/06/yoshis-crafted-world-switch-report/',\n",
       " 'https://www.vg247.com/2018/09/06/system-shock-enhanced-edition-source-port-pc/',\n",
       " 'https://www.vg247.com/2018/09/06/call-of-duty-black-ops-4-blackout-gameplay/',\n",
       " 'https://www.vg247.com/2018/09/06/sea-of-thieves-spyglass-wang-patch/',\n",
       " 'https://www.vg247.com/2018/09/06/surge-dlc-western-good-bad-augmented/',\n",
       " 'https://www.vg247.com/2018/09/06/steam-adults-only-filter/',\n",
       " 'https://www.vg247.com/2018/09/06/red-dead-redemption-2-characters/',\n",
       " 'https://www.vg247.com/2018/09/06/kingdoms-of-amalur-purchased-thq-nordic-copernicus/',\n",
       " 'https://www.vg247.com/2018/09/08/destiny-2-forsaken-cerberus-1-auto-rifle/',\n",
       " 'https://www.vg247.com/2018/09/08/pokemon-ultra-sun-moon-shiny-poipole/',\n",
       " 'https://www.vg247.com/2018/09/08/pokemon-go-moltres-day-raid-tips-get-shiny-moltres-sky-attack/',\n",
       " 'https://www.vg247.com/2018/09/07/gta-5-horizon-zero-dawn-ps-store-titles-august/',\n",
       " 'https://www.vg247.com/2018/09/07/destiny-2-forsaken-daily-challenges-reset/',\n",
       " 'https://www.vg247.com/2018/09/07/disgaea-2-pc-free-weekend-steam/',\n",
       " 'https://www.vg247.com/2018/09/07/call-of-duty-black-ops-4-blackout-map-bo4-br-map/',\n",
       " 'https://www.vg247.com/2018/09/07/red-dead-redemption-2-release-date-gameplay-story-pc-guide-characters/',\n",
       " 'https://www.vg247.com/2018/09/07/weeks-best-gaming-deals-two-point-hospital-psvr-bundles-dragon-ball-fighterz/',\n",
       " 'https://www.vg247.com/2018/09/07/final-fantasy-15-pocket-edition-ps4-xbox-one-switch/',\n",
       " 'https://www.vg247.com/2018/09/07/civilization-6-switch-release-date/',\n",
       " 'https://www.vg247.com/2018/09/07/the-division-free-weekend-pc/',\n",
       " 'https://www.vg247.com/2018/09/07/fortnite-week-9-season-5-challenges/',\n",
       " 'https://www.vg247.com/2018/09/07/pubg-vss-silent-and-violent-event-mode/',\n",
       " 'https://www.vg247.com/2018/09/07/destiny-2-forsaken-activate-rift-generator-public-event/',\n",
       " 'https://www.vg247.com/2018/09/07/destiny-2-oracle-engine-offering-corsair-down/']"
      ]
     },
     "execution_count": 15,
     "metadata": {},
     "output_type": "execute_result"
    }
   ],
   "source": [
    "links_all = soup.select(\"h2 a\")\n",
    "\n",
    "al_lnk=[]\n",
    "\n",
    "for i in range(0, len(links_all)):\n",
    "    al_lnk.append(links_all[i].get('href'))\n",
    "    \n",
    "links2 = soup.select(\"p.title a\")    \n",
    "for i in range(0, len(links2)):\n",
    "    al_lnk.append(links2[i].get('href'))\n",
    "\n",
    "links = pd.DataFrame({\n",
    "        \"links\": al_lnk\n",
    "    })    \n",
    "    \n",
    "lista_links_vg247 = links['links'].drop_duplicates().values.tolist()\n",
    "lista_links_vg247    "
   ]
  },
  {
   "cell_type": "code",
   "execution_count": 16,
   "metadata": {},
   "outputs": [
    {
     "data": {
      "text/plain": [
       "200"
      ]
     },
     "execution_count": 16,
     "metadata": {},
     "output_type": "execute_result"
    }
   ],
   "source": [
    "req = Request(lista_links_vg247[0],headers=hdr)\n",
    "page = urlopen(req)\n",
    "soup = BeautifulSoup(page, 'html.parser')\n",
    "page.status"
   ]
  },
  {
   "cell_type": "code",
   "execution_count": 89,
   "metadata": {},
   "outputs": [
    {
     "data": {
      "text/plain": [
       "'https://www.polygon.com/guides/2018/1/25/16911176/monster-hunter-world-guide-walkthrough'"
      ]
     },
     "execution_count": 89,
     "metadata": {},
     "output_type": "execute_result"
    }
   ],
   "source": [
    "link_p = lista_links_poly[25]\n",
    "req = Request(link_p,headers=hdr)\n",
    "page = urlopen(req)\n",
    "soup = BeautifulSoup(page, 'html.parser')\n",
    "link_p"
   ]
  },
  {
   "cell_type": "code",
   "execution_count": 20,
   "metadata": {},
   "outputs": [],
   "source": [
    "#Title\n",
    "title = soup.find(\"h1\").get_text()\n",
    "#Subtitle\n",
    "subt = \"\""
   ]
  },
  {
   "cell_type": "code",
   "execution_count": 29,
   "metadata": {},
   "outputs": [
    {
     "data": {
      "text/plain": [
       "['For a game that doesn’t take any existing shooter mechanic or feature for granted, a game that’s reinventing much of its core, Battlefield 5 somehow ends up borrowing from DICE’s worst game. ',\n",
       " 'With well over a dozen hours with the Battlefield 5 alphas and the currently active beta, I have no doubt that Battlefield 5 is shaping up to be the most interesting entry in the 16 year-old series.',\n",
       " 'If the drastic, immediately noticeable changes like dropping 3D spotting, the renewed focus on refining gunplay, or the abundance of animations for every in-game interaction aren’t proof enough, you need only look at the attrition system, redesigned tank combat or any of the other considerable innovations Battlefield 5 brings to see just how distinct it is from any other Battlefield.',\n",
       " 'The effect these systems have on gameplay can be felt the moment you get your first kill, just as it can be plainly spotted from watching some gameplay footage. Whether or not players end up liking any of that is another story, but there is no denying that things have changed.',\n",
       " 'Which is why it was perplexing to see the current weapon and vehicle upgrade system in Battlefield 5. At least in this beta test, weapons and vehicles have unique upgrade trees that open up the more time you spend using them. Frustratingly, the majority of these are objective, clear upgrades. ',\n",
       " 'Upgrade paths split after the first one or two are purchased, but the different branches each offer an increase in weapon power or versatility, you only choose which area you want buffed.',\n",
       " 'Taking the StG 44 as an example, you can either make the assault rifle more accurate over range when firing stationary, or boost its hip fire accuracy, making hip fire viable for longer ranges. For tanks, you’re looking at things like enhanced armour and increased firepower.',\n",
       " 'The stench of Star Wars: Battlefront 2 somehow ended up emanating from the Battlefield 5 beta, because the more you examine this upgrade system the more it’ll become clear which game it was inspired by. I argued at the time when everyone was busy being outraged over Battlefront 2 microtransactions that Battlefront 2’s biggest problem isn’t paid loot boxes, it’s that the game’s entire progression is based around time investment.',\n",
       " 'This may be interesting in a game like Destiny where it’s mostly PvE-focused, but it has no place in a competitive shooter. Yet here we are less than a year later, and we’re looking at essentially the same horrid upgrade mechanic that rewards time spent with objective performance upgrades. ',\n",
       " 'I find myself repeating the same argument again, the same one countless other players presented at Battlefront 2’s launch. If you must have weapon progression, make unlocks side-grades that players have to weigh the pros and cons of, not straight upgrades.',\n",
       " 'It’s almost funny that I have to write this at all, but there’s a reason why you can’t have 20 attachments on your weapon in most shooters. It’s always been a balancing act, taking a heavy barrel over a suppressor or a grip over a laser sight. Call of Duty has Pick 10, and Battlefield 3, and 4 had traditional weapon customisation systems that were entirely built around managing trade-offs. ',\n",
       " 'Common sense in this instance is evidently thrown out the window, and we’re left with this baffling, archaic system. It’s likely too late now to see a major change in the shipping version, at least if you’re planning to play Battlefield 5 at launch.',\n",
       " 'The simplest solution to this mess would be to limit upgrade slots to two or three per weapon/vehicle. Keep the unrewarding progression, if you must, keep the branching upgrade trees, but don’t allow players to have more than three equipped at any one time.',\n",
       " 'That way, they will be forced to live with some downsides in order to gain an upgrade that gels better with their play style. ',\n",
       " 'I imagine DICE is under a lot of stress these days, as pressure mounts from the higher-ups to create the first live service-based Battlefield. EA no doubt wants its own Rainbow Six Siege, a game capable of staying relevant, and one that’ll be making the publisher a lot of money for months and years after launch.',\n",
       " 'I can see how keeping players engaged through hollow upgrade systems that reward time spent – read: grind – was what DICE went with. It’s the one that springs to mind immediately. Time sinks are proven moneymakers.',\n",
       " 'All time spent in-game is playtime, after all, and it boosts players’ chances of spending money on one thing or another. Setting aside philosophical or ideological reservation one may have about a Skinner box loop designed to condition players in that way, this particular approach hurts the game in the long run.',\n",
       " 'Months from release, the core player base will have likely accumulated a big assortment of weapon and vehicles for all situations, simply because they’ve been playing for longer than anybody else. It’s unquestionably frustrating for a new player to pick up a game and find that they not only have to contend with a wide skill gap, but they’ll also be starting off with a handicap across their entire tool set.',\n",
       " 'It’s one thing to have to grind a bit for a weapon sight, and another to have one that shoots slower, has less accuracy and lacks whatever other upgrade existing players will use against you right from the off.',\n",
       " 'Seeing this Battlefront 2-style progression system in action makes me wonder if Battlefield 5 is being developed by two different teams. If nothing else, it’s at odds with everything else the game aspires to be, and ultimately goes against the innovative vision leading the rest of the game.']"
      ]
     },
     "execution_count": 29,
     "metadata": {},
     "output_type": "execute_result"
    }
   ],
   "source": [
    "#Parragraphs\n",
    "pars = soup.select('main p')\n",
    "\n",
    "parragraphs = [p.get_text() for p in pars]\n",
    "\n",
    "p_final = []\n",
    "for i in range(0, len(parragraphs)):   \n",
    "    if (parragraphs[i] != ''):\n",
    "        p_final.append(parragraphs[i])\n",
    "p_final"
   ]
  },
  {
   "cell_type": "code",
   "execution_count": 9,
   "metadata": {},
   "outputs": [],
   "source": [
    "p_final = []\n",
    "for i in range(0, len(parragraphs)):\n",
    "    if (parragraphs[i] != ''):\n",
    "        p_final.append(parragraphs[i])                "
   ]
  },
  {
   "cell_type": "code",
   "execution_count": 63,
   "metadata": {},
   "outputs": [
    {
     "data": {
      "text/plain": [
       "0                    https://www.polygon.com/2018/8/20/17760038/nvidia-geforce-rtx-2080-ti-2070-specs-release-date-price-turing\n",
       "1     https://www.polygon.com/2018/8/20/17761598/nvidia-rtx-real-time-ray-tracing-video-battlefield-5-shadow-of-the-tomb-raider\n",
       "2                                https://www.polygon.com/2018/8/20/17760782/world-of-warcraft-battle-for-azeroth-faction-change\n",
       "3                                   https://www.polygon.com/features/2018/8/17/17705486/revisiting-the-order-1886-ready-at-dawn\n",
       "4                                                   https://www.polygon.com/2018/8/20/17759932/life-is-strange-2-trailer-reveal\n",
       "5                                         https://www.polygon.com/2018/8/20/17761410/twitch-prime-no-more-ad-free-viewing-turbo\n",
       "6                                         https://www.polygon.com/2018/8/20/17761394/amazon-prime-video-game-pre-order-discount\n",
       "7         https://www.polygon.com/interviews/2018/8/20/17697562/world-of-warcraft-vindicaar-spaceship-battle-for-azeroth-legion\n",
       "8                                                     https://www.polygon.com/2018/8/18/17724894/f1-2018-review-pc-ps4-xbox-one\n",
       "9                                                https://www.polygon.com/2018/8/9/17670428/madden-nfl-19-review-ps4-xbox-one-pc\n",
       "10                              https://www.polygon.com/2018/8/9/17669136/we-happy-few-review-xbox-one-playstation-4-windows-pc\n",
       "11                                           https://www.polygon.com/videos/2018/8/14/17686370/luigi-nintendo-punching-bag-joke\n",
       "12                             https://www.polygon.com/2018/8/17/17705568/harry-potter-fan-fiction-musical-puppet-pals-creators\n",
       "13                                             https://www.polygon.com/2018/8/20/17760450/sekiro-shadows-die-twice-release-date\n",
       "15        https://www.polygon.com/2018/8/20/17758972/jeffree-star-laura-lee-gabriel-zamora-nikita-dragun-youtube-beauty-vlogger\n",
       "16                                 https://www.polygon.com/2018/8/20/17760030/bloodstained-release-date-delayed-ps-vita-version\n",
       "18                         https://www.polygon.com/comics/2018/8/13/17676792/new-sandman-neil-gaiman-dc-comics-vertigo-universe\n",
       "19                               https://www.polygon.com/2018/8/20/17722598/little-mermaid-2018-remake-netflix-streaming-disney\n",
       "20                                           https://www.polygon.com/2018/8/20/17759828/dead-or-alive-6-leifang-hitomi-gameplay\n",
       "21                                          https://www.polygon.com/2018/8/17/17702466/graveyard-keeper-farming-sim-pc-xbox-one\n",
       "22                                    https://www.polygon.com/2018/8/20/17759488/paradox-stellaris-console-edition-ps4-xbox-one\n",
       "23                                         https://www.polygon.com/2018/8/20/17759490/nintendo-eshop-new-games-schedule-nindies\n",
       "24                                                 https://www.polygon.com/2018/8/20/17759104/ps4-controller-colors-dualshock-4\n",
       "25                                     https://www.polygon.com/2018/8/20/17759376/hitman-2-legacy-pack-season-one-maps-free-dlc\n",
       "27                                     https://www.polygon.com/guides/2018/1/25/16911176/monster-hunter-world-guide-walkthrough\n",
       "29                                https://www.polygon.com/2018/8/20/17757074/dying-light-bad-blood-launch-steam-early-access-pc\n",
       "30                                       https://www.polygon.com/2018/8/19/17756966/tomb-raider-enemies-trailer-ps4-xbox-one-pc\n",
       "31               https://www.polygon.com/2018/8/19/17756692/metal-gear-solid-anniversary-video-david-hayter-jordan-vogt-roberts\n",
       "32                                         https://www.polygon.com/features/2018/8/8/17588846/greg-miller-interview-kinda-funny\n",
       "33                                            https://www.polygon.com/2018/8/19/17756256/overwatch-free-weekend-ps4-xbox-one-pc\n",
       "34                                  https://www.polygon.com/2018/8/19/17756092/forza-horizon-2-removed-xbox-store-date-xbox-one\n",
       "35                                            https://www.polygon.com/2018/7/25/17593516/video-game-culture-toxic-men-explained\n",
       "36          https://www.polygon.com/2018/8/18/17702072/best-gaming-deals-nintendo-switch-super-mario-odyssey-breath-of-the-wild\n",
       "37                        https://www.polygon.com/2018/8/18/17752466/fifa-19-stadiums-list-la-liga-ps4-xbox-one-nintendo-switch\n",
       "38                                 https://www.polygon.com/2018/8/18/17750680/project-hardcore-dice-genesis-release-ps4-ps-vita\n",
       "39                                                    https://www.polygon.com/tv/2018/8/18/17748068/netflix-video-promo-feature\n",
       "40                                        https://www.polygon.com/2018/7/30/17621870/comedy-twitter-james-gunn-dan-harmon-jokes\n",
       "41                          https://www.polygon.com/2018/8/18/17746688/grand-theft-auto-5-menyoo-absolute-cheats-banned-lawsuit\n",
       "Name: links, dtype: object"
      ]
     },
     "execution_count": 63,
     "metadata": {},
     "output_type": "execute_result"
    }
   ],
   "source": [
    "no_dupli_poly"
   ]
  },
  {
   "cell_type": "code",
   "execution_count": 76,
   "metadata": {},
   "outputs": [
    {
     "name": "stdout",
     "output_type": "stream",
     "text": [
      "https://www.polygon.com/2018/8/20/17760038/nvidia-geforce-rtx-2080-ti-2070-specs-release-date-price-turing\n",
      "https://www.polygon.com/2018/8/20/17761598/nvidia-rtx-real-time-ray-tracing-video-battlefield-5-shadow-of-the-tomb-raider\n",
      "https://www.polygon.com/2018/8/20/17760782/world-of-warcraft-battle-for-azeroth-faction-change\n",
      "https://www.polygon.com/features/2018/8/17/17705486/revisiting-the-order-1886-ready-at-dawn\n",
      "https://www.polygon.com/2018/8/20/17759932/life-is-strange-2-trailer-reveal\n",
      "https://www.polygon.com/2018/8/20/17761410/twitch-prime-no-more-ad-free-viewing-turbo\n",
      "https://www.polygon.com/2018/8/20/17761394/amazon-prime-video-game-pre-order-discount\n",
      "https://www.polygon.com/interviews/2018/8/20/17697562/world-of-warcraft-vindicaar-spaceship-battle-for-azeroth-legion\n",
      "https://www.polygon.com/2018/8/18/17724894/f1-2018-review-pc-ps4-xbox-one\n",
      "https://www.polygon.com/2018/8/9/17670428/madden-nfl-19-review-ps4-xbox-one-pc\n",
      "https://www.polygon.com/2018/8/9/17669136/we-happy-few-review-xbox-one-playstation-4-windows-pc\n",
      "https://www.polygon.com/videos/2018/8/14/17686370/luigi-nintendo-punching-bag-joke\n",
      "https://www.polygon.com/2018/8/17/17705568/harry-potter-fan-fiction-musical-puppet-pals-creators\n",
      "https://www.polygon.com/2018/8/20/17760450/sekiro-shadows-die-twice-release-date\n",
      "https://www.polygon.com/2018/8/20/17758972/jeffree-star-laura-lee-gabriel-zamora-nikita-dragun-youtube-beauty-vlogger\n",
      "https://www.polygon.com/2018/8/20/17760030/bloodstained-release-date-delayed-ps-vita-version\n",
      "https://www.polygon.com/comics/2018/8/13/17676792/new-sandman-neil-gaiman-dc-comics-vertigo-universe\n",
      "https://www.polygon.com/2018/8/20/17722598/little-mermaid-2018-remake-netflix-streaming-disney\n",
      "https://www.polygon.com/2018/8/20/17759828/dead-or-alive-6-leifang-hitomi-gameplay\n",
      "https://www.polygon.com/2018/8/17/17702466/graveyard-keeper-farming-sim-pc-xbox-one\n",
      "https://www.polygon.com/2018/8/20/17759488/paradox-stellaris-console-edition-ps4-xbox-one\n",
      "https://www.polygon.com/2018/8/20/17759490/nintendo-eshop-new-games-schedule-nindies\n",
      "https://www.polygon.com/2018/8/20/17759104/ps4-controller-colors-dualshock-4\n",
      "https://www.polygon.com/2018/8/20/17759376/hitman-2-legacy-pack-season-one-maps-free-dlc\n",
      "https://www.polygon.com/guides/2018/1/25/16911176/monster-hunter-world-guide-walkthrough\n",
      "https://www.polygon.com/2018/8/20/17757074/dying-light-bad-blood-launch-steam-early-access-pc\n",
      "https://www.polygon.com/2018/8/19/17756966/tomb-raider-enemies-trailer-ps4-xbox-one-pc\n",
      "https://www.polygon.com/2018/8/19/17756692/metal-gear-solid-anniversary-video-david-hayter-jordan-vogt-roberts\n",
      "https://www.polygon.com/features/2018/8/8/17588846/greg-miller-interview-kinda-funny\n",
      "https://www.polygon.com/2018/8/19/17756256/overwatch-free-weekend-ps4-xbox-one-pc\n",
      "https://www.polygon.com/2018/8/19/17756092/forza-horizon-2-removed-xbox-store-date-xbox-one\n",
      "https://www.polygon.com/2018/7/25/17593516/video-game-culture-toxic-men-explained\n",
      "https://www.polygon.com/2018/8/18/17702072/best-gaming-deals-nintendo-switch-super-mario-odyssey-breath-of-the-wild\n",
      "https://www.polygon.com/2018/8/18/17752466/fifa-19-stadiums-list-la-liga-ps4-xbox-one-nintendo-switch\n",
      "https://www.polygon.com/2018/8/18/17750680/project-hardcore-dice-genesis-release-ps4-ps-vita\n",
      "https://www.polygon.com/tv/2018/8/18/17748068/netflix-video-promo-feature\n",
      "https://www.polygon.com/2018/7/30/17621870/comedy-twitter-james-gunn-dan-harmon-jokes\n",
      "https://www.polygon.com/2018/8/18/17746688/grand-theft-auto-5-menyoo-absolute-cheats-banned-lawsuit\n"
     ]
    }
   ],
   "source": [
    "almacenado = pd.DataFrame({\n",
    "        \"site\": '',\n",
    "        \"title\": '',\n",
    "        \"subtitle\": '',\n",
    "        \"parrafo\": p_final\n",
    "    })   \n",
    "almacenado['site'] = site\n",
    "almacenado['title'] = title\n",
    "almacenado['subtitle'] = subt\n",
    "\n",
    "for k in range(0, len(no_dupli_poly)):\n",
    "    print(no_dupli_poly[k])\n",
    "    \n",
    "    "
   ]
  },
  {
   "cell_type": "code",
   "execution_count": null,
   "metadata": {},
   "outputs": [],
   "source": []
  }
 ],
 "metadata": {
  "kernelspec": {
   "display_name": "Python 3",
   "language": "python",
   "name": "python3"
  },
  "language_info": {
   "codemirror_mode": {
    "name": "ipython",
    "version": 3
   },
   "file_extension": ".py",
   "mimetype": "text/x-python",
   "name": "python",
   "nbconvert_exporter": "python",
   "pygments_lexer": "ipython3",
   "version": "3.6.4"
  }
 },
 "nbformat": 4,
 "nbformat_minor": 2
}
