{
 "cells": [
  {
   "cell_type": "markdown",
   "metadata": {},
   "source": [
    "Objetivos de este NB:\n",
    "    -Obtener todos los links de la front page de Gamesradar.com. COMPLETO\n",
    "    -Entrar a cada uno de los links, y obtener el titulo, y el texto de cada uno. COMPLETO\n",
    "    -Dejar en un formato tabular la informacion con las siguientes columnas: COMPLETO\n",
    "        -Pagina\n",
    "        -Titulo\n",
    "        -Subtitulo\n",
    "        -Parrafos_n"
   ]
  },
  {
   "cell_type": "code",
   "execution_count": 6,
   "metadata": {},
   "outputs": [
    {
     "name": "stderr",
     "output_type": "stream",
     "text": [
      "100%|██████████| 72/72 [04:00<00:00,  3.33s/it]\n"
     ]
    }
   ],
   "source": [
    "from bs4 import BeautifulSoup\n",
    "from urllib.request import Request, urlopen\n",
    "import pandas as pd\n",
    "import random\n",
    "import time\n",
    "import datetime\n",
    "from tqdm import tqdm\n",
    "\n",
    "site= \"https://www.gamesradar.com\"\n",
    "\n",
    "hdr = {'User-Agent': 'Mozilla/5.0'}\n",
    "req = Request(site,headers=hdr)\n",
    "page = urlopen(req)\n",
    "soup = BeautifulSoup(page, 'html.parser')\n",
    "final = pd.DataFrame()\n",
    "\n",
    "listing_result = soup.find_all('div', class_ = 'listingResult')\n",
    "\n",
    "details = []\n",
    "\n",
    "for link in range(0,len(listing_result)):    \n",
    "    try:\n",
    "        details.append(listing_result[link].find('a').get('href'))\n",
    "    except:\n",
    "        pass\n",
    "\n",
    "links = pd.DataFrame({\n",
    "         \"links\": details\n",
    "     })\n",
    "\n",
    "lista_links_gradar = links['links'].drop_duplicates().values.tolist()\n",
    "\n",
    "def scrapeo_gradar(review):\n",
    "                \n",
    "    req = Request(review,headers=hdr)\n",
    "    page = urlopen(req)\n",
    "    soup = BeautifulSoup(page, 'html.parser')\n",
    "\n",
    "    #Title\n",
    "    title = soup.find('h1', itemprop=\"name headline\").get_text()\n",
    "    #SubTitle\n",
    "    subt = soup.find('h2').get_text()\n",
    "    \n",
    "    #Parragraphs\n",
    "    [s.decompose() for s in soup(id=\"document-footer-content\")]\n",
    "    [s.decompose() for s in soup(class_=\"grey-box\")]\n",
    "    pars = soup.select('p')\n",
    "    parragraphs = [p.get_text() for p in pars]\n",
    "    \n",
    "    p_final = []\n",
    "    for i in range(1, len(parragraphs)):\n",
    "        if (parragraphs[i] != ''):\n",
    "            p_final.append(parragraphs[i])\n",
    "            \n",
    "    almacenado = pd.DataFrame({\n",
    "            \"site\": '',\n",
    "            \"title\": '',\n",
    "            \"subtitle\": '',\n",
    "            \"parrafo\": p_final\n",
    "        })   \n",
    "    almacenado['site'] = site\n",
    "    almacenado['title'] = title\n",
    "    almacenado['subtitle'] = subt\n",
    "                    \n",
    "    return almacenado\n",
    "\n",
    "for i in tqdm(range(0, len(lista_links_gradar))):    \n",
    "    final = final.append(scrapeo_gradar(lista_links_gradar[i]))\n",
    "    time.sleep(random.randint(1, 2))    \n",
    "    \n",
    "file_time = 'gamesradar_scrap_{date:%Y-%m-%d_%H_%M_%S}.csv'.format(date=datetime.datetime.now())\n",
    "              \n",
    "final.to_csv(file_time, sep='|', index=False)"
   ]
  },
  {
   "cell_type": "markdown",
   "metadata": {},
   "source": [
    "Desde acá comienza el nb para desarrollo."
   ]
  },
  {
   "cell_type": "code",
   "execution_count": 2,
   "metadata": {},
   "outputs": [],
   "source": [
    "from bs4 import BeautifulSoup\n",
    "from urllib.request import Request, urlopen\n",
    "import pandas as pd\n",
    "import random\n",
    "import time\n",
    "import datetime"
   ]
  },
  {
   "cell_type": "code",
   "execution_count": 3,
   "metadata": {},
   "outputs": [],
   "source": [
    "site= \"https://www.gamesradar.com\""
   ]
  },
  {
   "cell_type": "code",
   "execution_count": 4,
   "metadata": {},
   "outputs": [
    {
     "data": {
      "text/plain": [
       "200"
      ]
     },
     "execution_count": 4,
     "metadata": {},
     "output_type": "execute_result"
    }
   ],
   "source": [
    "hdr = {'User-Agent': 'Mozilla/5.0'}\n",
    "req = Request(site,headers=hdr)\n",
    "page = urlopen(req)\n",
    "soup = BeautifulSoup(page, 'html.parser')\n",
    "page.status"
   ]
  },
  {
   "cell_type": "code",
   "execution_count": 5,
   "metadata": {
    "scrolled": true
   },
   "outputs": [
    {
     "data": {
      "text/plain": [
       "['https://www.gamesradar.com/cyberpunk-2077-what-the-witcher-3-can-tell-us-about-when-its-actually-coming-out/',\n",
       " 'https://www.gamesradar.com/star-wars-9-the-ragged-resistance-could-be-at-their-lowest-point-teases-oscar-isaac/',\n",
       " 'https://www.gamesradar.com/the-game-of-thrones-season-8-finale-is-satisfying-but-may-lack-a-killer-plot-twist-hints-nikolaj-coster-waldau/',\n",
       " 'https://www.gamesradar.com/no-mans-sky-now-has-weekly-events-with-sweet-cosmetic-rewards/',\n",
       " 'https://www.gamesradar.com/far-cry-5-just-got-meaner-with-new-game-and-infamous-modes/',\n",
       " 'https://www.gamesradar.com/you-can-get-gta-5-for-just-dollar17-at-walmart-right-now-here-are-the-deals/',\n",
       " 'https://www.gamesradar.com/best-games-2018/',\n",
       " 'https://www.gamesradar.com/world-of-warcraft-battle-for-azeroth-how-to-get-baal-the-secret-battle-pet/',\n",
       " 'https://www.gamesradar.com/best-zombie-games/',\n",
       " 'https://www.gamesradar.com/best-free-games-play-right-now/',\n",
       " 'https://www.gamesradar.com/gta-online-how-to-earn-reputation-rp-level-up-fast/',\n",
       " 'https://www.gamesradar.com/fortnite-road-trip-challenges/',\n",
       " 'https://www.gamesradar.com/how-to-buy-gaming-laptop-cheap/',\n",
       " 'https://www.gamesradar.com/fallout-76-will-still-be-fun-if-youre-an-introvert-and-bethesdas-pete-hines-explains-why/',\n",
       " 'https://www.gamesradar.com/need-a-red-dead-redemption-2-bottle-opener-candle-dominos-the-outlaw-essentials-collection-is-for-you/',\n",
       " 'https://www.gamesradar.com/battlefield-5-gets-delayed-by-a-month-to-make-meaningful-improvements-to-the-core-gameplay/',\n",
       " 'https://www.gamesradar.com/hello-there-clone-wars-content-coming-to-star-wars-battlefront-2-starting-in-october/',\n",
       " 'https://www.gamesradar.com/how-to-access-the-battlefield-5-open-beta/',\n",
       " 'https://www.gamesradar.com/riot-games-on-accusations-of-sexism-were-sorry-it-took-so-long-for-us-to-hear-you/',\n",
       " 'https://www.gamesradar.com/playstation-plus-free-games/',\n",
       " 'https://www.gamesradar.com/that-cyberpunk-2077-gameplay-demo-was-packed-here-are-10-details-you-may-have-missed/',\n",
       " 'https://www.gamesradar.com/rip-cayde-6-your-favourite-hunter-has-now-left-the-tower-for-good-with-destiny-2s-big-forsaken-patch/',\n",
       " 'https://www.gamesradar.com/strange-brigade-review-a-few-sandwiches-short-of-a-proper-picnic/',\n",
       " 'https://www.gamesradar.com/pes-2019-review/',\n",
       " 'https://www.gamesradar.com/donut-county-just-like-a-real-donut-its-finished-far-too-quickly/',\n",
       " 'https://www.gamesradar.com/guacamelee-2-review/',\n",
       " 'https://www.gamesradar.com/we-happy-few-review-a-dystopian-nightmare-thats-basically-social-anxiety-the-game/',\n",
       " 'https://www.gamesradar.com/okami-nintendo-switch-review/',\n",
       " 'https://www.gamesradar.com/overcooked-2-review/',\n",
       " 'https://www.gamesradar.com/madden-19-review/',\n",
       " 'https://www.gamesradar.com/secretlab-omega-2018-review/',\n",
       " 'https://www.gamesradar.com/logitech-g920-driving-force-steering-wheel-review/',\n",
       " 'https://www.gamesradar.com/the-crew-2-review/',\n",
       " 'https://www.gamesradar.com/the-awesome-adventures-of-captain-spirit-review/',\n",
       " 'https://www.gamesradar.com/the-best-xbox-one-controllers-and-accessories/',\n",
       " 'https://www.gamesradar.com/new-games-2018/',\n",
       " 'https://www.gamesradar.com/firewall-zero-hour-is-currently-the-closest-thing-we-have-to-rainbow-six-siege-vr/',\n",
       " 'https://www.gamesradar.com/cyberpunk-2077-release-date-trailer-gameplay-new/',\n",
       " 'https://www.gamesradar.com/dying-light-bad-blood-isnt-a-battle-royale-its-a-brutal-royale-thats-part-pubg-part-left-4-dead/',\n",
       " 'https://www.gamesradar.com/best-nintendo-switch-accessories/',\n",
       " 'https://www.gamesradar.com/how-to-build-gaming-pc-cheap/',\n",
       " 'https://www.gamesradar.com/video-game-release-dates/',\n",
       " 'https://www.gamesradar.com/every-star-wars-movie-ranked-from-worst-to-best/',\n",
       " 'https://www.gamesradar.com/star-wars-t-shirts/',\n",
       " 'https://www.gamesradar.com/star-wars-9-news-cast-plot/',\n",
       " 'https://www.gamesradar.com/how-to-watch-star-wars-movies-free/',\n",
       " 'https://www.gamesradar.com/shh-dont-tell-anyone-but-a-quiet-place-2-release-date-just-got-announced/',\n",
       " 'https://www.gamesradar.com/best-movies-on-netflix/',\n",
       " 'https://www.gamesradar.com/best-netflix-tv-shows/',\n",
       " 'https://www.gamesradar.com/the-walking-dead-season-9-release-date-trailer-cast/',\n",
       " 'https://www.gamesradar.com/new-the-walking-dead-season-9-trailer-puts-the-strain-on-maggie-and-ricks-relationship-and-is-that-michonne-holding-lucille/',\n",
       " 'https://www.gamesradar.com/the-latest-possible-game-of-thrones-season-8-release-date-has-been-locked-in-according-to-reports/',\n",
       " 'https://www.gamesradar.com/doctor-who-and-star-wars-fandoms-collide-as-matt-smith-gets-cast-for-star-wars-9/',\n",
       " 'https://www.gamesradar.com/disneys-streaming-service-might-be-cheaper-than-netflix-and-its-coming-next-year/',\n",
       " 'https://www.gamesradar.com/watch-the-first-ever-game-of-thrones-season-8-footage-now-and-try-and-guess-who-sansa-is-side-eyeing/',\n",
       " 'https://www.gamesradar.com/new-on-netflix/',\n",
       " 'https://www.gamesradar.com/upgrade-review/',\n",
       " 'https://www.gamesradar.com/the-innocents-netflix-review/',\n",
       " 'https://www.gamesradar.com/disenchantment-review/',\n",
       " 'https://www.gamesradar.com/blackkklansman-review/',\n",
       " 'https://www.gamesradar.com/the-spy-who-dumped-me/',\n",
       " 'https://www.gamesradar.com/christopher-robin-review/',\n",
       " 'https://www.gamesradar.com/the-meg-review/',\n",
       " 'https://www.gamesradar.com/mission-impossible-fallout-review/',\n",
       " 'https://www.gamesradar.com/what-does-four-days-and-nights-of-non-stop-horror-movies-do-to-a-person-welcome-to-our-frightfest-2018-live-blog/',\n",
       " 'https://www.gamesradar.com/marvel-avengers-phase-3-every-movie-until-2020/',\n",
       " 'https://www.gamesradar.com/upcoming-movies/',\n",
       " 'https://www.gamesradar.com/best-high-end-gaming-pc-build/',\n",
       " 'https://www.gamesradar.com/best-gaming-monitors/',\n",
       " 'https://www.gamesradar.com/best-ddr-ram-for-pc-gaming/',\n",
       " 'https://www.gamesradar.com/best-cpu-for-gaming-pc/',\n",
       " 'https://www.gamesradar.com/best-open-world-games/']"
      ]
     },
     "execution_count": 5,
     "metadata": {},
     "output_type": "execute_result"
    }
   ],
   "source": [
    "listing_result = soup.find_all('div', class_ = 'listingResult')\n",
    "listing_result[1].find('a').get('href')\n",
    "\n",
    "details = []\n",
    "\n",
    "for link in range(0,len(listing_result)):    \n",
    "    try:\n",
    "        details.append(listing_result[link].find('a').get('href'))\n",
    "    except:\n",
    "        pass\n",
    "\n",
    "links = pd.DataFrame({\n",
    "         \"links\": details\n",
    "     })\n",
    "\n",
    "lista_links_gradar = links['links'].drop_duplicates().values.tolist()\n",
    "lista_links_gradar"
   ]
  },
  {
   "cell_type": "code",
   "execution_count": 52,
   "metadata": {},
   "outputs": [],
   "source": [
    "review = 'https://www.gamesradar.com/starlink-battle-for-atlas-is-one-part-skylanders-one-part-pimp-my-ride/'\n",
    "req = Request(review,headers=hdr)\n",
    "page = urlopen(req)\n",
    "soup = BeautifulSoup(page, 'html.parser')\n",
    "\n"
   ]
  },
  {
   "cell_type": "code",
   "execution_count": 62,
   "metadata": {},
   "outputs": [
    {
     "data": {
      "text/plain": [
       "['\\nBy\\nSam Prell\\n2018-08-24T16:50:07ZPS4\\xa0\\n',\n",
       " \"Starlink: Battle for Atlas is an ambitious game. It's a space combat adventure, featuring a fully explorable star system, with seamless transitions between outer space and the surface of a planet. It also stars a colorful cast of characters that reminds one of the Voltron: Legendary Defender crew. But where the game really pushes the envelope is the way it evolves the long-stagnant toys-to-life genre.\",\n",
       " 'At Gamescom 2018, we sat down with creative director Laurent Malville to get a new look at the game. Check it out to see how Ubisoft pulls it all together:',\n",
       " 'In case you\\'re not familiar with the term, \"toys-to-life\" refers to games like Skylanders, Disney Infinity, and Lego Dimensions - games where you purchase a physical toy to unlock digital rewards. In Skylanders, the most prime example of these types of games, that meant buying a character figure, putting it on a \"portal,\" and then playing as that character in-game.',\n",
       " 'Starlink expands that idea to encompass characters, ships, weapons, and other modifications, letting you build and customize a handheld spaceship that you can then pilot across the stars. And where previous toys-to-life games were often relatively limited in what you could do with your physical toys, Starlink lets you go buck wild with customization.',\n",
       " \"You want your ship to have extra-wide wings? Put wings on your wings. Want to go on an all-out offensive? Load up your weapon slots with the biggest laser cannons you can find. Remember that MTV show Pimp My Ride, where rapper Xzibit would make wild changes to someone's car? It's like that, but instead of putting a fish tank in the dash you're mounting anti-gravity guns to your action figure spaceship.\",\n",
       " 'Of course, if all of that is a little too much for your tastes, you can always nix the toys and play the game completely digitally. But when the Nintendo Switch version comes with the option to pilot an Arwing from StarFox, why would you want to? Starlink: Battle for Atlas arrives October 16 for Nintendo Switch, PS4, and Xbox One.',\n",
       " \"Starlink: Battle for Atlas wasn't the only game we saw at Gamescom 2018. We've also got new details on BioWare's upcoming sci-fi adventure Anthem, and exclusive gameplay of Tesla-inspired horror game Close to the Sun.\\xa0\"]"
      ]
     },
     "execution_count": 62,
     "metadata": {},
     "output_type": "execute_result"
    }
   ],
   "source": [
    "#Title\n",
    "title = soup.find('h1', itemprop=\"name headline\").get_text()\n",
    "#SubTitle\n",
    "subt = soup.find('h2').get_text()\n",
    "\n",
    "\n",
    "#Parrafos\n",
    "[s.decompose() for s in soup(id=\"document-footer-content\")]\n",
    "[s.decompose() for s in soup(class_=\"grey-box\")]\n",
    "\n",
    "pars = soup.select('p')\n",
    "parragraphs = [p.get_text() for p in pars]\n",
    "parragraphs"
   ]
  },
  {
   "cell_type": "code",
   "execution_count": 63,
   "metadata": {},
   "outputs": [
    {
     "data": {
      "text/plain": [
       "[\"Starlink: Battle for Atlas is an ambitious game. It's a space combat adventure, featuring a fully explorable star system, with seamless transitions between outer space and the surface of a planet. It also stars a colorful cast of characters that reminds one of the Voltron: Legendary Defender crew. But where the game really pushes the envelope is the way it evolves the long-stagnant toys-to-life genre.\",\n",
       " 'At Gamescom 2018, we sat down with creative director Laurent Malville to get a new look at the game. Check it out to see how Ubisoft pulls it all together:',\n",
       " 'In case you\\'re not familiar with the term, \"toys-to-life\" refers to games like Skylanders, Disney Infinity, and Lego Dimensions - games where you purchase a physical toy to unlock digital rewards. In Skylanders, the most prime example of these types of games, that meant buying a character figure, putting it on a \"portal,\" and then playing as that character in-game.',\n",
       " 'Starlink expands that idea to encompass characters, ships, weapons, and other modifications, letting you build and customize a handheld spaceship that you can then pilot across the stars. And where previous toys-to-life games were often relatively limited in what you could do with your physical toys, Starlink lets you go buck wild with customization.',\n",
       " \"You want your ship to have extra-wide wings? Put wings on your wings. Want to go on an all-out offensive? Load up your weapon slots with the biggest laser cannons you can find. Remember that MTV show Pimp My Ride, where rapper Xzibit would make wild changes to someone's car? It's like that, but instead of putting a fish tank in the dash you're mounting anti-gravity guns to your action figure spaceship.\",\n",
       " 'Of course, if all of that is a little too much for your tastes, you can always nix the toys and play the game completely digitally. But when the Nintendo Switch version comes with the option to pilot an Arwing from StarFox, why would you want to? Starlink: Battle for Atlas arrives October 16 for Nintendo Switch, PS4, and Xbox One.',\n",
       " \"Starlink: Battle for Atlas wasn't the only game we saw at Gamescom 2018. We've also got new details on BioWare's upcoming sci-fi adventure Anthem, and exclusive gameplay of Tesla-inspired horror game Close to the Sun.\\xa0\"]"
      ]
     },
     "execution_count": 63,
     "metadata": {},
     "output_type": "execute_result"
    }
   ],
   "source": [
    "p_final = []\n",
    "for i in range(1, len(parragraphs)):\n",
    "    if (parragraphs[i] != ''):\n",
    "        p_final.append(parragraphs[i])\n",
    "\n",
    "p_final"
   ]
  },
  {
   "cell_type": "code",
   "execution_count": 67,
   "metadata": {},
   "outputs": [
    {
     "data": {
      "text/html": [
       "<div>\n",
       "<style scoped>\n",
       "    .dataframe tbody tr th:only-of-type {\n",
       "        vertical-align: middle;\n",
       "    }\n",
       "\n",
       "    .dataframe tbody tr th {\n",
       "        vertical-align: top;\n",
       "    }\n",
       "\n",
       "    .dataframe thead th {\n",
       "        text-align: right;\n",
       "    }\n",
       "</style>\n",
       "<table border=\"1\" class=\"dataframe\">\n",
       "  <thead>\n",
       "    <tr style=\"text-align: right;\">\n",
       "      <th></th>\n",
       "      <th>parrafo</th>\n",
       "      <th>site</th>\n",
       "      <th>subtitle</th>\n",
       "      <th>title</th>\n",
       "    </tr>\n",
       "  </thead>\n",
       "  <tbody>\n",
       "    <tr>\n",
       "      <th>0</th>\n",
       "      <td>Earlier this week, From Software revealed that...</td>\n",
       "      <td>https://www.eurogamer.net</td>\n",
       "      <td>Fresh from Eurogamer's play session at Gamescom.</td>\n",
       "      <td>Watch 19 minutes of From Software's Sekiro: Sh...</td>\n",
       "    </tr>\n",
       "    <tr>\n",
       "      <th>1</th>\n",
       "      <td>Sekiro: Shadows Die Twice is, of course, the l...</td>\n",
       "      <td>https://www.eurogamer.net</td>\n",
       "      <td>Fresh from Eurogamer's play session at Gamescom.</td>\n",
       "      <td>Watch 19 minutes of From Software's Sekiro: Sh...</td>\n",
       "    </tr>\n",
       "    <tr>\n",
       "      <th>2</th>\n",
       "      <td>Its beautifully realised 16th Century Sengoku ...</td>\n",
       "      <td>https://www.eurogamer.net</td>\n",
       "      <td>Fresh from Eurogamer's play session at Gamescom.</td>\n",
       "      <td>Watch 19 minutes of From Software's Sekiro: Sh...</td>\n",
       "    </tr>\n",
       "    <tr>\n",
       "      <th>3</th>\n",
       "      <td>However, Sekiro: Shadows Die Twice's precise a...</td>\n",
       "      <td>https://www.eurogamer.net</td>\n",
       "      <td>Fresh from Eurogamer's play session at Gamescom.</td>\n",
       "      <td>Watch 19 minutes of From Software's Sekiro: Sh...</td>\n",
       "    </tr>\n",
       "    <tr>\n",
       "      <th>4</th>\n",
       "      <td>Sekiro: Shadows Die Twice releases on Xbox One...</td>\n",
       "      <td>https://www.eurogamer.net</td>\n",
       "      <td>Fresh from Eurogamer's play session at Gamescom.</td>\n",
       "      <td>Watch 19 minutes of From Software's Sekiro: Sh...</td>\n",
       "    </tr>\n",
       "  </tbody>\n",
       "</table>\n",
       "</div>"
      ],
      "text/plain": [
       "                                             parrafo  \\\n",
       "0  Earlier this week, From Software revealed that...   \n",
       "1  Sekiro: Shadows Die Twice is, of course, the l...   \n",
       "2  Its beautifully realised 16th Century Sengoku ...   \n",
       "3  However, Sekiro: Shadows Die Twice's precise a...   \n",
       "4  Sekiro: Shadows Die Twice releases on Xbox One...   \n",
       "\n",
       "                        site  \\\n",
       "0  https://www.eurogamer.net   \n",
       "1  https://www.eurogamer.net   \n",
       "2  https://www.eurogamer.net   \n",
       "3  https://www.eurogamer.net   \n",
       "4  https://www.eurogamer.net   \n",
       "\n",
       "                                           subtitle  \\\n",
       "0  Fresh from Eurogamer's play session at Gamescom.   \n",
       "1  Fresh from Eurogamer's play session at Gamescom.   \n",
       "2  Fresh from Eurogamer's play session at Gamescom.   \n",
       "3  Fresh from Eurogamer's play session at Gamescom.   \n",
       "4  Fresh from Eurogamer's play session at Gamescom.   \n",
       "\n",
       "                                               title  \n",
       "0  Watch 19 minutes of From Software's Sekiro: Sh...  \n",
       "1  Watch 19 minutes of From Software's Sekiro: Sh...  \n",
       "2  Watch 19 minutes of From Software's Sekiro: Sh...  \n",
       "3  Watch 19 minutes of From Software's Sekiro: Sh...  \n",
       "4  Watch 19 minutes of From Software's Sekiro: Sh...  "
      ]
     },
     "execution_count": 67,
     "metadata": {},
     "output_type": "execute_result"
    }
   ],
   "source": [
    "almacenado = pd.DataFrame({\n",
    "        \"site\": '',\n",
    "        \"title\": '',\n",
    "        \"subtitle\": '',\n",
    "        \"parrafo\": p_final\n",
    "    })   \n",
    "almacenado['site'] = site\n",
    "almacenado['title'] = title\n",
    "almacenado['subtitle'] = subt\n",
    "\n",
    "for i in range(0, len(almacenado)):\n",
    "    if almacenado['subtitle'][i] == almacenado['parrafo'][i]:\n",
    "        almacenado = almacenado.drop(almacenado.index[i])\n",
    "\n",
    "almacenado\n",
    "\n",
    "#file_time = 'dtoid_scrap_{date:%Y-%m-%d_%H_%M_%S}.csv'.format(date=datetime.datetime.now())\n",
    "              \n",
    "#almacenado.to_csv(file_time, sep='|')"
   ]
  }
 ],
 "metadata": {
  "kernelspec": {
   "display_name": "Python 3",
   "language": "python",
   "name": "python3"
  },
  "language_info": {
   "codemirror_mode": {
    "name": "ipython",
    "version": 3
   },
   "file_extension": ".py",
   "mimetype": "text/x-python",
   "name": "python",
   "nbconvert_exporter": "python",
   "pygments_lexer": "ipython3",
   "version": "3.6.4"
  }
 },
 "nbformat": 4,
 "nbformat_minor": 2
}
