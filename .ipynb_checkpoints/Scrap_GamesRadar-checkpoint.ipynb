{
 "cells": [
  {
   "cell_type": "markdown",
   "metadata": {},
   "source": [
    "Objetivos de este NB:\n",
    "    -Obtener todos los links de la front page de Gamesradar.com. COMPLETO\n",
    "    -Entrar a cada uno de los links, y obtener el titulo, y el texto de cada uno. COMPLETO\n",
    "    -Dejar en un formato tabular la informacion con las siguientes columnas: COMPLETO\n",
    "        -Pagina\n",
    "        -Titulo\n",
    "        -Subtitulo\n",
    "        -Parrafos_n"
   ]
  },
  {
   "cell_type": "markdown",
   "metadata": {},
   "source": [
    "Desde acá comienza el nb para desarrollo."
   ]
  },
  {
   "cell_type": "code",
   "execution_count": 39,
   "metadata": {},
   "outputs": [],
   "source": [
    "from bs4 import BeautifulSoup\n",
    "from urllib.request import Request, urlopen\n",
    "import pandas as pd\n",
    "import random\n",
    "import time\n",
    "import datetime"
   ]
  },
  {
   "cell_type": "code",
   "execution_count": 40,
   "metadata": {},
   "outputs": [],
   "source": [
    "site= \"https://www.gamesradar.com\""
   ]
  },
  {
   "cell_type": "code",
   "execution_count": 41,
   "metadata": {},
   "outputs": [
    {
     "data": {
      "text/plain": [
       "200"
      ]
     },
     "execution_count": 41,
     "metadata": {},
     "output_type": "execute_result"
    }
   ],
   "source": [
    "hdr = {'User-Agent': 'Mozilla/5.0'}\n",
    "req = Request(site,headers=hdr)\n",
    "page = urlopen(req)\n",
    "soup = BeautifulSoup(page, 'html.parser')\n",
    "page.status"
   ]
  },
  {
   "cell_type": "code",
   "execution_count": 43,
   "metadata": {
    "scrolled": true
   },
   "outputs": [
    {
     "name": "stdout",
     "output_type": "stream",
     "text": [
      "https://www.gamesradar.com/watch-our-quest-for-a-fortnite-llama-selfie-at-gamescom-2018/\n",
      "https://www.gamesradar.com/whats-the-future-of-gaming-watch-our-developer-panel-from-gamescom-to-find-out/\n",
      "https://www.gamesradar.com/get-an-exclusive-peek-at-tesla-inspired-horror-adventure-game-close-to-the-sun/\n",
      "https://www.gamesradar.com/anthems-game-director-breaks-down-what-all-four-javelins-are-about-including-the-speedy-gadgeteer-interceptor/\n",
      "https://www.gamesradar.com/two-point-hospitals-freddie-mercury-wannabes-mimes-and-nudists/\n",
      "https://www.gamesradar.com/twitchs-pokemon-marathon-isnt-messing-around-with-16-movies-and-932-episodes-of-the-tv-show/\n",
      "https://www.gamesradar.com/best-alienware-pc-deals/\n",
      "https://www.gamesradar.com/watch-our-quest-for-a-fortnite-llama-selfie-at-gamescom-2018/\n",
      "https://www.gamesradar.com/whats-the-future-of-gaming-watch-our-developer-panel-from-gamescom-to-find-out/\n",
      "https://www.gamesradar.com/get-an-exclusive-peek-at-tesla-inspired-horror-adventure-game-close-to-the-sun/\n",
      "https://www.gamesradar.com/anthems-game-director-breaks-down-what-all-four-javelins-are-about-including-the-speedy-gadgeteer-interceptor/\n",
      "https://www.gamesradar.com/two-point-hospitals-freddie-mercury-wannabes-mimes-and-nudists/\n",
      "https://www.gamesradar.com/sci-fi-samurai-kinky-pirates-death-gods-and-dlc-10-hot-new-rage-2-details-from-the-quakecon-panel-you-didnt-see/\n",
      "https://www.gamesradar.com/fortnite-battle-royale-battle-pass-challenges-guide/\n",
      "https://www.gamesradar.com/twitchs-pokemon-marathon-isnt-messing-around-with-16-movies-and-932-episodes-of-the-tv-show/\n",
      "https://www.gamesradar.com/fortnite-leaks/\n",
      "https://www.gamesradar.com/this-xbox-all-access-report-sounds-like-a-killer-way-to-make-xbox-easy-and-cheaper-to-get-into/\n",
      "https://www.gamesradar.com/watch-our-quest-for-a-fortnite-llama-selfie-at-gamescom-2018/\n",
      "https://www.gamesradar.com/whats-the-future-of-gaming-watch-our-developer-panel-from-gamescom-to-find-out/\n",
      "https://www.gamesradar.com/get-an-exclusive-peek-at-tesla-inspired-horror-adventure-game-close-to-the-sun/\n",
      "https://www.gamesradar.com/anthems-game-director-breaks-down-what-all-four-javelins-are-about-including-the-speedy-gadgeteer-interceptor/\n",
      "https://www.gamesradar.com/two-point-hospitals-freddie-mercury-wannabes-mimes-and-nudists/\n",
      "https://www.gamesradar.com/twitchs-pokemon-marathon-isnt-messing-around-with-16-movies-and-932-episodes-of-the-tv-show/\n",
      "https://www.gamesradar.com/this-xbox-all-access-report-sounds-like-a-killer-way-to-make-xbox-easy-and-cheaper-to-get-into/\n",
      "https://www.gamesradar.com/find-your-inner-jon-snow-or-cersei-lannister-with-reigns-game-of-thrones/\n",
      "https://www.gamesradar.com/bungie-explains-how-destiny-2s-new-systems-affect-your-current-inventory-you-can-delete-mods-now-but-dont-rush-it/\n",
      "https://www.gamesradar.com/dark-pictures-man-of-medan-get-scared-silly-with-new-gameplay-and-exclusive-info-from-supermassive-games/\n",
      "https://www.gamesradar.com/what-are-the-tomatohead-challenges/\n",
      "https://www.gamesradar.com/nintendo-switch-controller-cheap-deals/\n",
      "https://www.gamesradar.com/we-happy-few-review-a-dystopian-nightmare-thats-basically-social-anxiety-the-game/\n",
      "https://www.gamesradar.com/okami-nintendo-switch-review/\n",
      "https://www.gamesradar.com/overcooked-2-review/\n",
      "https://www.gamesradar.com/madden-19-review/\n",
      "https://www.gamesradar.com/secretlab-omega-2018-review/\n",
      "https://www.gamesradar.com/logitech-g920-driving-force-steering-wheel-review/\n",
      "https://www.gamesradar.com/the-crew-2-review/\n",
      "https://www.gamesradar.com/the-awesome-adventures-of-captain-spirit-review/\n",
      "https://www.gamesradar.com/the-sims-4-seasons-review/\n",
      "https://www.gamesradar.com/mario-tennis-aces-review/\n",
      "https://www.gamesradar.com/jurassic-world-evolution-review/\n",
      "https://www.gamesradar.com/vampyr-review/\n",
      "https://www.gamesradar.com/best-alienware-pc-deals/\n",
      "https://www.gamesradar.com/sci-fi-samurai-kinky-pirates-death-gods-and-dlc-10-hot-new-rage-2-details-from-the-quakecon-panel-you-didnt-see/\n",
      "https://www.gamesradar.com/fortnite-leaks/\n",
      "https://www.gamesradar.com/how-realistic-is-detroit-become-humans-android-filled-future-the-experts-weigh-in/\n",
      "https://www.gamesradar.com/fortnite-map-changes/\n",
      "https://www.gamesradar.com/the-best-and-cheapest-microsd-cards-for-nintendo-switch/\n",
      "https://www.gamesradar.com/best-high-end-gaming-pc-build/\n",
      "https://www.gamesradar.com/division-2-release-date-trailer-gameplay/\n",
      "https://www.gamesradar.com/wwe-2k19-roster/\n",
      "https://www.gamesradar.com/dark-pictures-is-a-cinematic-delight-that-is-ready-to-exploit-your-weaknesses-no-matter-what/\n",
      "https://www.gamesradar.com/sekiro-shadows-die-twice-is-a-macabre-dance-with-deadly-grandmas/\n",
      "https://www.gamesradar.com/best-razer-pc-deals/\n",
      "https://www.gamesradar.com/new-games-2018/\n",
      "https://www.gamesradar.com/every-star-wars-movie-ranked-from-worst-to-best/\n",
      "https://www.gamesradar.com/star-wars-t-shirts/\n",
      "https://www.gamesradar.com/star-wars-9-news-cast-plot/\n",
      "https://www.gamesradar.com/how-to-watch-star-wars-movies-free/\n",
      "https://www.gamesradar.com/harry-potter-merchandise/\n",
      "https://www.gamesradar.com/westworld-season-3-release-date-trailer-cast-plot/\n",
      "https://www.gamesradar.com/twitchs-pokemon-marathon-isnt-messing-around-with-16-movies-and-932-episodes-of-the-tv-show/\n",
      "https://www.gamesradar.com/insidious-director-james-wan-reveals-the-horror-filmmaking-lessons-hes-bringing-to-aquaman/\n",
      "https://www.gamesradar.com/what-does-four-days-and-nights-of-non-stop-horror-movies-do-to-a-person-welcome-to-our-frightfest-2018-live-blog/\n",
      "https://www.gamesradar.com/lord-of-the-rings-tv-show-release-date-trailer-news/\n",
      "https://www.gamesradar.com/every-star-wars-movie-ranked-from-worst-to-best/\n",
      "https://www.gamesradar.com/game-of-thrones-prequel/\n",
      "https://www.gamesradar.com/twitchs-pokemon-marathon-isnt-messing-around-with-16-movies-and-932-episodes-of-the-tv-show/\n",
      "https://www.gamesradar.com/insidious-director-james-wan-reveals-the-horror-filmmaking-lessons-hes-bringing-to-aquaman/\n",
      "https://www.gamesradar.com/tom-hardy-fights-back-in-this-exclusive-venom-image/\n",
      "https://www.gamesradar.com/richard-e-grant-says-he-isnt-playing-the-star-wars-9-character-everyone-wants-him-to-play/\n",
      "https://www.gamesradar.com/one-of-lgs-best-4k-gaming-tvs-is-pound200-off-in-amazons-bank-holiday-sale-but-should-you-buy-it/\n",
      "https://www.gamesradar.com/viserions-game-of-thrones-season-7-dragon-scream-is-actually-a-remix-of-a-load-of-drunk-fans-screaming/\n",
      "https://www.gamesradar.com/a-james-gunn-horror-movie-is-coming-this-november-but-what-does-that-mean-for-his-marvel-future/\n",
      "https://www.gamesradar.com/avengers-infinity-war-changed-a-key-thanos-scene-because-it-was-too-dark-yes-really/\n",
      "https://www.gamesradar.com/disenchantment-review/\n",
      "https://www.gamesradar.com/blackkklansman-review/\n",
      "https://www.gamesradar.com/the-spy-who-dumped-me/\n",
      "https://www.gamesradar.com/christopher-robin-review/\n",
      "https://www.gamesradar.com/the-meg-review/\n",
      "https://www.gamesradar.com/mission-impossible-fallout-review/\n",
      "https://www.gamesradar.com/first-reformed-review/\n",
      "https://www.gamesradar.com/krypton-season-1-review/\n",
      "https://www.gamesradar.com/harry-potter-merchandise/\n",
      "https://www.gamesradar.com/westworld-season-3-release-date-trailer-cast-plot/\n",
      "https://www.gamesradar.com/what-does-four-days-and-nights-of-non-stop-horror-movies-do-to-a-person-welcome-to-our-frightfest-2018-live-blog/\n",
      "https://www.gamesradar.com/lord-of-the-rings-tv-show-release-date-trailer-news/\n",
      "https://www.gamesradar.com/every-star-wars-movie-ranked-from-worst-to-best/\n",
      "https://www.gamesradar.com/game-of-thrones-prequel/\n",
      "https://www.gamesradar.com/the-predator-may-have-an-r-rating-but-it-also-might-be-as-funny-as-hell/\n",
      "https://www.gamesradar.com/upcoming-star-wars-movies/\n",
      "https://www.gamesradar.com/best-high-end-gaming-pc-build/\n",
      "https://www.gamesradar.com/best-gaming-monitors/\n",
      "https://www.gamesradar.com/best-ddr-ram-for-pc-gaming/\n",
      "https://www.gamesradar.com/best-cpu-for-gaming-pc/\n",
      "https://www.gamesradar.com/best-netflix-tv-shows/\n",
      "https://www.gamesradar.com/best-open-world-games/\n",
      "https://www.gamesradar.com/best-movies-on-netflix/\n"
     ]
    }
   ],
   "source": [
    "listing_result = soup.find_all('div', class_ = 'listingResult')\n",
    "listing_result[1].find('a').get('href')\n",
    "\n",
    "#print(listing_result)\n",
    "\n",
    "for link in range(0,len(listing_result)):    \n",
    "    try:\n",
    "        print(listing_result[link].find('a').get('href'))\n",
    "    except:\n",
    "        pass\n",
    "\n",
    "#souo2 = BeautifulSoup(details_title)\n",
    "\n",
    "#for link in details_title.find_all('a'):\n",
    "#    print(link.get('href'))\n",
    "\n",
    "\n",
    "# details = []\n",
    "# for i in range(0, len(details_title)):\n",
    "#     details.append(details_title[i].get('href'))\n",
    "\n",
    "# links = pd.DataFrame({\n",
    "#         \"links\": details\n",
    "#     })\n",
    "\n",
    "# links"
   ]
  },
  {
   "cell_type": "code",
   "execution_count": 38,
   "metadata": {},
   "outputs": [
    {
     "data": {
      "text/plain": [
       "60"
      ]
     },
     "execution_count": 38,
     "metadata": {},
     "output_type": "execute_result"
    }
   ],
   "source": [
    "links['links'] = str(site) + links['links'].astype(str)\n",
    "lista_links_eurogamer = links['links'].drop_duplicates().values.tolist()\n",
    "len(lista_links_eurogamer)"
   ]
  },
  {
   "cell_type": "code",
   "execution_count": 48,
   "metadata": {},
   "outputs": [],
   "source": [
    "# for i in range(0, len(lista_links_eurogamer)):\n",
    "#     print(lista_links_eurogamer[i])\n",
    "#     time.sleep(random.randint(1, 3))\n",
    "\n",
    "review = \"https://www.eurogamer.net/articles/2018-08-23-heres-19-minutes-of-from-softwares-sekiro-shadows-die-twice\"\n",
    "req = Request(review,headers=hdr)\n",
    "page = urlopen(req)\n",
    "soup = BeautifulSoup(page, 'html.parser')"
   ]
  },
  {
   "cell_type": "code",
   "execution_count": 65,
   "metadata": {},
   "outputs": [],
   "source": [
    "#Title\n",
    "title = soup.select('h1.title')[0].get_text().replace(u'\\xa0', u' ').lstrip().rstrip()\n",
    "#SubTitle\n",
    "subt = soup.select('p.strapline')[0].get_text().replace(u'\\xa0', u' ').lstrip().rstrip()\n",
    "#Parrafos\n",
    "pars = soup.select('main section p')\n",
    "parragraphs = [p.get_text() for p in pars]\n"
   ]
  },
  {
   "cell_type": "code",
   "execution_count": 66,
   "metadata": {},
   "outputs": [
    {
     "data": {
      "text/plain": [
       "['Earlier this week, From Software revealed that Sekiro: Shadows Die Twice, its ninja-themed revenge romp, will launch on March 22nd next year. So why not while away the minutes between now and then (19 of them to be exact) with some new gameplay footage, fresh from Gamescom?',\n",
       " \"Sekiro: Shadows Die Twice is, of course, the latest game to be directed by Hidetaka Miyazaki, the mastermind behind Demon's Souls, Dark Souls, and Bloodborne. However, despite some obvious similarities - its third-person perspective and action focus, for instance - it's said to be a very different beast to any of those earlier games.\",\n",
       " \"Its beautifully realised 16th Century Sengoku Japan setting is a clear departure from the gothic claustrophobia of Miyazaki's most recent games, and its tale of the titular Sekiro - on a quest for revenge against the man that severed his arm - is telling a very specific yarn about a very specific man, leaving no room for the heavy RPG-style customisation seen in Souls and Bloodborne.\",\n",
       " \"However, Sekiro: Shadows Die Twice's precise action is still defined by uncompromising challenge, even if its aggressive combat set-up is balanced by the opportunity to approach objectives in a stealthy manner, as is befitting of a ninja such as Sekiro. You can enjoy a small sample of the game's punishing charms in the video above, as Eurogamer's Aoife Wilson bravely confronts a shinobi general and chained ogre at this year's Gamescom.\",\n",
       " 'Sekiro: Shadows Die Twice releases on Xbox One, PS4, and PC on March 22nd next year.']"
      ]
     },
     "execution_count": 66,
     "metadata": {},
     "output_type": "execute_result"
    }
   ],
   "source": [
    "p_final = []\n",
    "for i in range(0, len(parragraphs)):\n",
    "    if (parragraphs[i] != ''):\n",
    "        p_final.append(parragraphs[i])\n",
    "\n",
    "p_final"
   ]
  },
  {
   "cell_type": "code",
   "execution_count": 67,
   "metadata": {},
   "outputs": [
    {
     "data": {
      "text/html": [
       "<div>\n",
       "<style scoped>\n",
       "    .dataframe tbody tr th:only-of-type {\n",
       "        vertical-align: middle;\n",
       "    }\n",
       "\n",
       "    .dataframe tbody tr th {\n",
       "        vertical-align: top;\n",
       "    }\n",
       "\n",
       "    .dataframe thead th {\n",
       "        text-align: right;\n",
       "    }\n",
       "</style>\n",
       "<table border=\"1\" class=\"dataframe\">\n",
       "  <thead>\n",
       "    <tr style=\"text-align: right;\">\n",
       "      <th></th>\n",
       "      <th>parrafo</th>\n",
       "      <th>site</th>\n",
       "      <th>subtitle</th>\n",
       "      <th>title</th>\n",
       "    </tr>\n",
       "  </thead>\n",
       "  <tbody>\n",
       "    <tr>\n",
       "      <th>0</th>\n",
       "      <td>Earlier this week, From Software revealed that...</td>\n",
       "      <td>https://www.eurogamer.net</td>\n",
       "      <td>Fresh from Eurogamer's play session at Gamescom.</td>\n",
       "      <td>Watch 19 minutes of From Software's Sekiro: Sh...</td>\n",
       "    </tr>\n",
       "    <tr>\n",
       "      <th>1</th>\n",
       "      <td>Sekiro: Shadows Die Twice is, of course, the l...</td>\n",
       "      <td>https://www.eurogamer.net</td>\n",
       "      <td>Fresh from Eurogamer's play session at Gamescom.</td>\n",
       "      <td>Watch 19 minutes of From Software's Sekiro: Sh...</td>\n",
       "    </tr>\n",
       "    <tr>\n",
       "      <th>2</th>\n",
       "      <td>Its beautifully realised 16th Century Sengoku ...</td>\n",
       "      <td>https://www.eurogamer.net</td>\n",
       "      <td>Fresh from Eurogamer's play session at Gamescom.</td>\n",
       "      <td>Watch 19 minutes of From Software's Sekiro: Sh...</td>\n",
       "    </tr>\n",
       "    <tr>\n",
       "      <th>3</th>\n",
       "      <td>However, Sekiro: Shadows Die Twice's precise a...</td>\n",
       "      <td>https://www.eurogamer.net</td>\n",
       "      <td>Fresh from Eurogamer's play session at Gamescom.</td>\n",
       "      <td>Watch 19 minutes of From Software's Sekiro: Sh...</td>\n",
       "    </tr>\n",
       "    <tr>\n",
       "      <th>4</th>\n",
       "      <td>Sekiro: Shadows Die Twice releases on Xbox One...</td>\n",
       "      <td>https://www.eurogamer.net</td>\n",
       "      <td>Fresh from Eurogamer's play session at Gamescom.</td>\n",
       "      <td>Watch 19 minutes of From Software's Sekiro: Sh...</td>\n",
       "    </tr>\n",
       "  </tbody>\n",
       "</table>\n",
       "</div>"
      ],
      "text/plain": [
       "                                             parrafo  \\\n",
       "0  Earlier this week, From Software revealed that...   \n",
       "1  Sekiro: Shadows Die Twice is, of course, the l...   \n",
       "2  Its beautifully realised 16th Century Sengoku ...   \n",
       "3  However, Sekiro: Shadows Die Twice's precise a...   \n",
       "4  Sekiro: Shadows Die Twice releases on Xbox One...   \n",
       "\n",
       "                        site  \\\n",
       "0  https://www.eurogamer.net   \n",
       "1  https://www.eurogamer.net   \n",
       "2  https://www.eurogamer.net   \n",
       "3  https://www.eurogamer.net   \n",
       "4  https://www.eurogamer.net   \n",
       "\n",
       "                                           subtitle  \\\n",
       "0  Fresh from Eurogamer's play session at Gamescom.   \n",
       "1  Fresh from Eurogamer's play session at Gamescom.   \n",
       "2  Fresh from Eurogamer's play session at Gamescom.   \n",
       "3  Fresh from Eurogamer's play session at Gamescom.   \n",
       "4  Fresh from Eurogamer's play session at Gamescom.   \n",
       "\n",
       "                                               title  \n",
       "0  Watch 19 minutes of From Software's Sekiro: Sh...  \n",
       "1  Watch 19 minutes of From Software's Sekiro: Sh...  \n",
       "2  Watch 19 minutes of From Software's Sekiro: Sh...  \n",
       "3  Watch 19 minutes of From Software's Sekiro: Sh...  \n",
       "4  Watch 19 minutes of From Software's Sekiro: Sh...  "
      ]
     },
     "execution_count": 67,
     "metadata": {},
     "output_type": "execute_result"
    }
   ],
   "source": [
    "almacenado = pd.DataFrame({\n",
    "        \"site\": '',\n",
    "        \"title\": '',\n",
    "        \"subtitle\": '',\n",
    "        \"parrafo\": p_final\n",
    "    })   \n",
    "almacenado['site'] = site\n",
    "almacenado['title'] = title\n",
    "almacenado['subtitle'] = subt\n",
    "\n",
    "for i in range(0, len(almacenado)):\n",
    "    if almacenado['subtitle'][i] == almacenado['parrafo'][i]:\n",
    "        almacenado = almacenado.drop(almacenado.index[i])\n",
    "\n",
    "almacenado\n",
    "\n",
    "#file_time = 'dtoid_scrap_{date:%Y-%m-%d_%H_%M_%S}.csv'.format(date=datetime.datetime.now())\n",
    "              \n",
    "#almacenado.to_csv(file_time, sep='|')"
   ]
  }
 ],
 "metadata": {
  "kernelspec": {
   "display_name": "Python 3",
   "language": "python",
   "name": "python3"
  },
  "language_info": {
   "codemirror_mode": {
    "name": "ipython",
    "version": 3
   },
   "file_extension": ".py",
   "mimetype": "text/x-python",
   "name": "python",
   "nbconvert_exporter": "python",
   "pygments_lexer": "ipython3",
   "version": "3.6.4"
  }
 },
 "nbformat": 4,
 "nbformat_minor": 2
}
