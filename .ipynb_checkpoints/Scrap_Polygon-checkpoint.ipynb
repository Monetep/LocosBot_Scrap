{
 "cells": [
  {
   "cell_type": "markdown",
   "metadata": {},
   "source": [
    "Objetivos de este NB:\n",
    "    -Obtener todos los links de la front page de Polygon.com. COMPLETO\n",
    "    -Entrar a cada uno de los links, y obtener el titulo, y el texto de cada uno. COMPLETO\n",
    "    -Dejar en un formato tabular la informacion con las siguientes columnas: COMPLETO\n",
    "        -Pagina\n",
    "        -Titulo\n",
    "        -Subtitulo\n",
    "        -Parrafos_n"
   ]
  },
  {
   "cell_type": "code",
   "execution_count": 1,
   "metadata": {},
   "outputs": [
    {
     "name": "stderr",
     "output_type": "stream",
     "text": [
      "100%|██████████| 38/38 [01:50<00:00,  2.91s/it]\n"
     ]
    }
   ],
   "source": [
    "from bs4 import BeautifulSoup\n",
    "from urllib.request import Request, urlopen\n",
    "import pandas as pd\n",
    "import random\n",
    "import time\n",
    "import datetime\n",
    "from tqdm import tqdm\n",
    "\n",
    "site= \"https://www.polygon.com/\"\n",
    "\n",
    "hdr = {'User-Agent': 'Mozilla/5.0'}\n",
    "req = Request(site,headers=hdr)\n",
    "page = urlopen(req)\n",
    "soup = BeautifulSoup(page, 'html.parser')\n",
    "\n",
    "compact_body = soup.select(\"h2.c-entry-box--compact__title a\")\n",
    "cb = []\n",
    "for i in range(0, len(compact_body)):\n",
    "    cb.append(compact_body[i].get('href'))\n",
    "    \n",
    "links = pd.DataFrame({\n",
    "        \"links\": cb\n",
    "    })\n",
    "\n",
    "final = pd.DataFrame()\n",
    "\n",
    "poly_link = links['poly_link'] = links[\"links\"].str.contains(\"polygon\")\n",
    "links = links[poly_link]\n",
    "links['links'] = links['links'].astype(str)\n",
    "lista_links_poly = links['links'].drop_duplicates().reset_index(drop=True)\n",
    "\n",
    "def scrapeo_polygon(review):\n",
    "    req = Request(review,headers=hdr)\n",
    "    page = urlopen(req)\n",
    "    soup = BeautifulSoup(page, 'html.parser')\n",
    "\n",
    "    #Title\n",
    "    try:\n",
    "        title = soup.select(\"h1\")[0].get_text()\n",
    "    except:\n",
    "        title = site\n",
    "        \n",
    "    #Subtitle\n",
    "    try:\n",
    "        subt = soup.select(\"h2\")[0].get_text()\n",
    "    except:\n",
    "        subt = title\n",
    "        \n",
    "    #Parragraphs\n",
    "    pars = soup.find_all('p')\n",
    "    parragraphs = [p.get_text() for p in pars]\n",
    "\n",
    "    p_final = []\n",
    "    for i in range(0, len(parragraphs)):   \n",
    "        if (parragraphs[i] != ''):\n",
    "            p_final.append(parragraphs[i])\n",
    "        \n",
    "    almacenado = pd.DataFrame({\n",
    "        \"site\": '',\n",
    "        \"title\": '',\n",
    "        \"subtitle\": '',\n",
    "        \"parrafo\": p_final\n",
    "    })   \n",
    "    almacenado['site'] = site\n",
    "    almacenado['title'] = title\n",
    "    almacenado['subtitle'] = subt\n",
    "    \n",
    "    return almacenado\n",
    "\n",
    "for i in tqdm(range(0, len(lista_links_poly))):    \n",
    "    final = final.append(scrapeo_polygon(lista_links_poly[i]))\n",
    "    time.sleep(random.randint(1, 4))    \n",
    "    \n",
    "file_time = 'poly_scrap_{date:%Y-%m-%d_%H_%M_%S}.csv'.format(date=datetime.datetime.now())\n",
    "              \n",
    "final.to_csv(file_time, sep='|', index=False)    "
   ]
  },
  {
   "cell_type": "markdown",
   "metadata": {},
   "source": [
    "Desde acá comienza el nb para desarrollo."
   ]
  },
  {
   "cell_type": "code",
   "execution_count": 41,
   "metadata": {},
   "outputs": [],
   "source": [
    "from bs4 import BeautifulSoup\n",
    "from urllib.request import Request, urlopen\n",
    "import pandas as pd\n",
    "import random\n",
    "import time\n",
    "import datetime"
   ]
  },
  {
   "cell_type": "code",
   "execution_count": 42,
   "metadata": {},
   "outputs": [],
   "source": [
    "site= \"https://www.polygon.com/\""
   ]
  },
  {
   "cell_type": "code",
   "execution_count": 43,
   "metadata": {},
   "outputs": [
    {
     "data": {
      "text/plain": [
       "200"
      ]
     },
     "execution_count": 43,
     "metadata": {},
     "output_type": "execute_result"
    }
   ],
   "source": [
    "hdr = {'User-Agent': 'Mozilla/5.0'}\n",
    "req = Request(site,headers=hdr)\n",
    "page = urlopen(req)\n",
    "soup = BeautifulSoup(page, 'html.parser')\n",
    "page.status"
   ]
  },
  {
   "cell_type": "code",
   "execution_count": 74,
   "metadata": {},
   "outputs": [],
   "source": [
    "compact_body = soup.select(\"h2.c-entry-box--compact__title a\")\n",
    "cb = []\n",
    "for i in range(0, len(compact_body)):\n",
    "    cb.append(compact_body[i].get('href'))\n",
    "    \n",
    "links = pd.DataFrame({\n",
    "        \"links\": cb\n",
    "    })   "
   ]
  },
  {
   "cell_type": "code",
   "execution_count": 80,
   "metadata": {},
   "outputs": [
    {
     "data": {
      "text/plain": [
       "0                    https://www.polygon.com/2018/8/20/17760038/nvidia-geforce-rtx-2080-ti-2070-specs-release-date-price-turing\n",
       "1                                          https://www.polygon.com/2018/8/20/17760448/nvidia-rtx-prices-performance-ray-tracing\n",
       "2     https://www.polygon.com/2018/8/20/17761598/nvidia-rtx-real-time-ray-tracing-video-battlefield-5-shadow-of-the-tomb-raider\n",
       "3                                   https://www.polygon.com/features/2018/8/17/17705486/revisiting-the-order-1886-ready-at-dawn\n",
       "4                                https://www.polygon.com/2018/8/20/17760782/world-of-warcraft-battle-for-azeroth-faction-change\n",
       "5                                                   https://www.polygon.com/2018/8/20/17759932/life-is-strange-2-trailer-reveal\n",
       "6                                         https://www.polygon.com/2018/8/20/17761410/twitch-prime-no-more-ad-free-viewing-turbo\n",
       "7                                         https://www.polygon.com/2018/8/20/17761394/amazon-prime-video-game-pre-order-discount\n",
       "8                                                     https://www.polygon.com/2018/8/18/17724894/f1-2018-review-pc-ps4-xbox-one\n",
       "9                                                https://www.polygon.com/2018/8/9/17670428/madden-nfl-19-review-ps4-xbox-one-pc\n",
       "10                              https://www.polygon.com/2018/8/9/17669136/we-happy-few-review-xbox-one-playstation-4-windows-pc\n",
       "11                                           https://www.polygon.com/videos/2018/8/14/17686370/luigi-nintendo-punching-bag-joke\n",
       "12                             https://www.polygon.com/2018/8/17/17705568/harry-potter-fan-fiction-musical-puppet-pals-creators\n",
       "13        https://www.polygon.com/interviews/2018/8/20/17697562/world-of-warcraft-vindicaar-spaceship-battle-for-azeroth-legion\n",
       "14                                             https://www.polygon.com/2018/8/20/17760450/sekiro-shadows-die-twice-release-date\n",
       "15        https://www.polygon.com/2018/8/20/17758972/jeffree-star-laura-lee-gabriel-zamora-nikita-dragun-youtube-beauty-vlogger\n",
       "16                                 https://www.polygon.com/2018/8/20/17760030/bloodstained-release-date-delayed-ps-vita-version\n",
       "17                         https://www.polygon.com/comics/2018/8/13/17676792/new-sandman-neil-gaiman-dc-comics-vertigo-universe\n",
       "18                               https://www.polygon.com/2018/8/20/17722598/little-mermaid-2018-remake-netflix-streaming-disney\n",
       "19                                          https://www.polygon.com/2018/8/17/17702466/graveyard-keeper-farming-sim-pc-xbox-one\n",
       "20                                           https://www.polygon.com/2018/8/20/17759828/dead-or-alive-6-leifang-hitomi-gameplay\n",
       "21                                    https://www.polygon.com/2018/8/20/17759488/paradox-stellaris-console-edition-ps4-xbox-one\n",
       "22                                         https://www.polygon.com/2018/8/20/17759490/nintendo-eshop-new-games-schedule-nindies\n",
       "23                                                 https://www.polygon.com/2018/8/20/17759104/ps4-controller-colors-dualshock-4\n",
       "24                                     https://www.polygon.com/2018/8/20/17759376/hitman-2-legacy-pack-season-one-maps-free-dlc\n",
       "25                                     https://www.polygon.com/guides/2018/1/25/16911176/monster-hunter-world-guide-walkthrough\n",
       "26                                https://www.polygon.com/2018/8/20/17757074/dying-light-bad-blood-launch-steam-early-access-pc\n",
       "27                                       https://www.polygon.com/2018/8/19/17756966/tomb-raider-enemies-trailer-ps4-xbox-one-pc\n",
       "28                                         https://www.polygon.com/features/2018/8/8/17588846/greg-miller-interview-kinda-funny\n",
       "29               https://www.polygon.com/2018/8/19/17756692/metal-gear-solid-anniversary-video-david-hayter-jordan-vogt-roberts\n",
       "30                                            https://www.polygon.com/2018/8/19/17756256/overwatch-free-weekend-ps4-xbox-one-pc\n",
       "31                                            https://www.polygon.com/2018/7/25/17593516/video-game-culture-toxic-men-explained\n",
       "32                                  https://www.polygon.com/2018/8/19/17756092/forza-horizon-2-removed-xbox-store-date-xbox-one\n",
       "33          https://www.polygon.com/2018/8/18/17702072/best-gaming-deals-nintendo-switch-super-mario-odyssey-breath-of-the-wild\n",
       "34                        https://www.polygon.com/2018/8/18/17752466/fifa-19-stadiums-list-la-liga-ps4-xbox-one-nintendo-switch\n",
       "35                                 https://www.polygon.com/2018/8/18/17750680/project-hardcore-dice-genesis-release-ps4-ps-vita\n",
       "36                                        https://www.polygon.com/2018/7/30/17621870/comedy-twitter-james-gunn-dan-harmon-jokes\n",
       "37                                                    https://www.polygon.com/tv/2018/8/18/17748068/netflix-video-promo-feature\n",
       "38                          https://www.polygon.com/2018/8/18/17746688/grand-theft-auto-5-menyoo-absolute-cheats-banned-lawsuit\n",
       "Name: links, dtype: object"
      ]
     },
     "execution_count": 80,
     "metadata": {},
     "output_type": "execute_result"
    }
   ],
   "source": [
    "poly_link = links['poly_link'] = links[\"links\"].str.contains(\"polygon\")\n",
    "links = links[poly_link]\n",
    "links['links'] = links['links'].astype(str)\n",
    "no_dupli_poly = links['links'].drop_duplicates().reset_index(drop=True)\n",
    "no_dupli_poly"
   ]
  },
  {
   "cell_type": "code",
   "execution_count": 89,
   "metadata": {},
   "outputs": [
    {
     "data": {
      "text/plain": [
       "'https://www.polygon.com/guides/2018/1/25/16911176/monster-hunter-world-guide-walkthrough'"
      ]
     },
     "execution_count": 89,
     "metadata": {},
     "output_type": "execute_result"
    }
   ],
   "source": [
    "link_p = lista_links_poly[25]\n",
    "req = Request(link_p,headers=hdr)\n",
    "page = urlopen(req)\n",
    "soup = BeautifulSoup(page, 'html.parser')\n",
    "link_p"
   ]
  },
  {
   "cell_type": "code",
   "execution_count": 92,
   "metadata": {},
   "outputs": [
    {
     "name": "stdout",
     "output_type": "stream",
     "text": [
      "Monster Hunter: World guide\n"
     ]
    }
   ],
   "source": [
    "#Title\n",
    "title = soup.select(\"h1\")[0].get_text()\n",
    "print(title)\n",
    "#Subtitle\n",
    "#subt = soup.select(\"h2\")[0].get_text()"
   ]
  },
  {
   "cell_type": "code",
   "execution_count": 8,
   "metadata": {},
   "outputs": [],
   "source": [
    "#Parragraphs\n",
    "pars = soup.find_all('p')\n",
    "parragraphs = [p.get_text() for p in pars]\n",
    "\n",
    "p_final = []\n",
    "for i in range(0, len(parragraphs)):   \n",
    "    if (parragraphs[i] != ''):\n",
    "        p_final.append(parragraphs[i])"
   ]
  },
  {
   "cell_type": "code",
   "execution_count": 9,
   "metadata": {},
   "outputs": [],
   "source": [
    "p_final = []\n",
    "for i in range(0, len(parragraphs)):\n",
    "    if (parragraphs[i] != ''):\n",
    "        p_final.append(parragraphs[i])                "
   ]
  },
  {
   "cell_type": "code",
   "execution_count": 63,
   "metadata": {},
   "outputs": [
    {
     "data": {
      "text/plain": [
       "0                    https://www.polygon.com/2018/8/20/17760038/nvidia-geforce-rtx-2080-ti-2070-specs-release-date-price-turing\n",
       "1     https://www.polygon.com/2018/8/20/17761598/nvidia-rtx-real-time-ray-tracing-video-battlefield-5-shadow-of-the-tomb-raider\n",
       "2                                https://www.polygon.com/2018/8/20/17760782/world-of-warcraft-battle-for-azeroth-faction-change\n",
       "3                                   https://www.polygon.com/features/2018/8/17/17705486/revisiting-the-order-1886-ready-at-dawn\n",
       "4                                                   https://www.polygon.com/2018/8/20/17759932/life-is-strange-2-trailer-reveal\n",
       "5                                         https://www.polygon.com/2018/8/20/17761410/twitch-prime-no-more-ad-free-viewing-turbo\n",
       "6                                         https://www.polygon.com/2018/8/20/17761394/amazon-prime-video-game-pre-order-discount\n",
       "7         https://www.polygon.com/interviews/2018/8/20/17697562/world-of-warcraft-vindicaar-spaceship-battle-for-azeroth-legion\n",
       "8                                                     https://www.polygon.com/2018/8/18/17724894/f1-2018-review-pc-ps4-xbox-one\n",
       "9                                                https://www.polygon.com/2018/8/9/17670428/madden-nfl-19-review-ps4-xbox-one-pc\n",
       "10                              https://www.polygon.com/2018/8/9/17669136/we-happy-few-review-xbox-one-playstation-4-windows-pc\n",
       "11                                           https://www.polygon.com/videos/2018/8/14/17686370/luigi-nintendo-punching-bag-joke\n",
       "12                             https://www.polygon.com/2018/8/17/17705568/harry-potter-fan-fiction-musical-puppet-pals-creators\n",
       "13                                             https://www.polygon.com/2018/8/20/17760450/sekiro-shadows-die-twice-release-date\n",
       "15        https://www.polygon.com/2018/8/20/17758972/jeffree-star-laura-lee-gabriel-zamora-nikita-dragun-youtube-beauty-vlogger\n",
       "16                                 https://www.polygon.com/2018/8/20/17760030/bloodstained-release-date-delayed-ps-vita-version\n",
       "18                         https://www.polygon.com/comics/2018/8/13/17676792/new-sandman-neil-gaiman-dc-comics-vertigo-universe\n",
       "19                               https://www.polygon.com/2018/8/20/17722598/little-mermaid-2018-remake-netflix-streaming-disney\n",
       "20                                           https://www.polygon.com/2018/8/20/17759828/dead-or-alive-6-leifang-hitomi-gameplay\n",
       "21                                          https://www.polygon.com/2018/8/17/17702466/graveyard-keeper-farming-sim-pc-xbox-one\n",
       "22                                    https://www.polygon.com/2018/8/20/17759488/paradox-stellaris-console-edition-ps4-xbox-one\n",
       "23                                         https://www.polygon.com/2018/8/20/17759490/nintendo-eshop-new-games-schedule-nindies\n",
       "24                                                 https://www.polygon.com/2018/8/20/17759104/ps4-controller-colors-dualshock-4\n",
       "25                                     https://www.polygon.com/2018/8/20/17759376/hitman-2-legacy-pack-season-one-maps-free-dlc\n",
       "27                                     https://www.polygon.com/guides/2018/1/25/16911176/monster-hunter-world-guide-walkthrough\n",
       "29                                https://www.polygon.com/2018/8/20/17757074/dying-light-bad-blood-launch-steam-early-access-pc\n",
       "30                                       https://www.polygon.com/2018/8/19/17756966/tomb-raider-enemies-trailer-ps4-xbox-one-pc\n",
       "31               https://www.polygon.com/2018/8/19/17756692/metal-gear-solid-anniversary-video-david-hayter-jordan-vogt-roberts\n",
       "32                                         https://www.polygon.com/features/2018/8/8/17588846/greg-miller-interview-kinda-funny\n",
       "33                                            https://www.polygon.com/2018/8/19/17756256/overwatch-free-weekend-ps4-xbox-one-pc\n",
       "34                                  https://www.polygon.com/2018/8/19/17756092/forza-horizon-2-removed-xbox-store-date-xbox-one\n",
       "35                                            https://www.polygon.com/2018/7/25/17593516/video-game-culture-toxic-men-explained\n",
       "36          https://www.polygon.com/2018/8/18/17702072/best-gaming-deals-nintendo-switch-super-mario-odyssey-breath-of-the-wild\n",
       "37                        https://www.polygon.com/2018/8/18/17752466/fifa-19-stadiums-list-la-liga-ps4-xbox-one-nintendo-switch\n",
       "38                                 https://www.polygon.com/2018/8/18/17750680/project-hardcore-dice-genesis-release-ps4-ps-vita\n",
       "39                                                    https://www.polygon.com/tv/2018/8/18/17748068/netflix-video-promo-feature\n",
       "40                                        https://www.polygon.com/2018/7/30/17621870/comedy-twitter-james-gunn-dan-harmon-jokes\n",
       "41                          https://www.polygon.com/2018/8/18/17746688/grand-theft-auto-5-menyoo-absolute-cheats-banned-lawsuit\n",
       "Name: links, dtype: object"
      ]
     },
     "execution_count": 63,
     "metadata": {},
     "output_type": "execute_result"
    }
   ],
   "source": [
    "no_dupli_poly"
   ]
  },
  {
   "cell_type": "code",
   "execution_count": 76,
   "metadata": {},
   "outputs": [
    {
     "name": "stdout",
     "output_type": "stream",
     "text": [
      "https://www.polygon.com/2018/8/20/17760038/nvidia-geforce-rtx-2080-ti-2070-specs-release-date-price-turing\n",
      "https://www.polygon.com/2018/8/20/17761598/nvidia-rtx-real-time-ray-tracing-video-battlefield-5-shadow-of-the-tomb-raider\n",
      "https://www.polygon.com/2018/8/20/17760782/world-of-warcraft-battle-for-azeroth-faction-change\n",
      "https://www.polygon.com/features/2018/8/17/17705486/revisiting-the-order-1886-ready-at-dawn\n",
      "https://www.polygon.com/2018/8/20/17759932/life-is-strange-2-trailer-reveal\n",
      "https://www.polygon.com/2018/8/20/17761410/twitch-prime-no-more-ad-free-viewing-turbo\n",
      "https://www.polygon.com/2018/8/20/17761394/amazon-prime-video-game-pre-order-discount\n",
      "https://www.polygon.com/interviews/2018/8/20/17697562/world-of-warcraft-vindicaar-spaceship-battle-for-azeroth-legion\n",
      "https://www.polygon.com/2018/8/18/17724894/f1-2018-review-pc-ps4-xbox-one\n",
      "https://www.polygon.com/2018/8/9/17670428/madden-nfl-19-review-ps4-xbox-one-pc\n",
      "https://www.polygon.com/2018/8/9/17669136/we-happy-few-review-xbox-one-playstation-4-windows-pc\n",
      "https://www.polygon.com/videos/2018/8/14/17686370/luigi-nintendo-punching-bag-joke\n",
      "https://www.polygon.com/2018/8/17/17705568/harry-potter-fan-fiction-musical-puppet-pals-creators\n",
      "https://www.polygon.com/2018/8/20/17760450/sekiro-shadows-die-twice-release-date\n",
      "https://www.polygon.com/2018/8/20/17758972/jeffree-star-laura-lee-gabriel-zamora-nikita-dragun-youtube-beauty-vlogger\n",
      "https://www.polygon.com/2018/8/20/17760030/bloodstained-release-date-delayed-ps-vita-version\n",
      "https://www.polygon.com/comics/2018/8/13/17676792/new-sandman-neil-gaiman-dc-comics-vertigo-universe\n",
      "https://www.polygon.com/2018/8/20/17722598/little-mermaid-2018-remake-netflix-streaming-disney\n",
      "https://www.polygon.com/2018/8/20/17759828/dead-or-alive-6-leifang-hitomi-gameplay\n",
      "https://www.polygon.com/2018/8/17/17702466/graveyard-keeper-farming-sim-pc-xbox-one\n",
      "https://www.polygon.com/2018/8/20/17759488/paradox-stellaris-console-edition-ps4-xbox-one\n",
      "https://www.polygon.com/2018/8/20/17759490/nintendo-eshop-new-games-schedule-nindies\n",
      "https://www.polygon.com/2018/8/20/17759104/ps4-controller-colors-dualshock-4\n",
      "https://www.polygon.com/2018/8/20/17759376/hitman-2-legacy-pack-season-one-maps-free-dlc\n",
      "https://www.polygon.com/guides/2018/1/25/16911176/monster-hunter-world-guide-walkthrough\n",
      "https://www.polygon.com/2018/8/20/17757074/dying-light-bad-blood-launch-steam-early-access-pc\n",
      "https://www.polygon.com/2018/8/19/17756966/tomb-raider-enemies-trailer-ps4-xbox-one-pc\n",
      "https://www.polygon.com/2018/8/19/17756692/metal-gear-solid-anniversary-video-david-hayter-jordan-vogt-roberts\n",
      "https://www.polygon.com/features/2018/8/8/17588846/greg-miller-interview-kinda-funny\n",
      "https://www.polygon.com/2018/8/19/17756256/overwatch-free-weekend-ps4-xbox-one-pc\n",
      "https://www.polygon.com/2018/8/19/17756092/forza-horizon-2-removed-xbox-store-date-xbox-one\n",
      "https://www.polygon.com/2018/7/25/17593516/video-game-culture-toxic-men-explained\n",
      "https://www.polygon.com/2018/8/18/17702072/best-gaming-deals-nintendo-switch-super-mario-odyssey-breath-of-the-wild\n",
      "https://www.polygon.com/2018/8/18/17752466/fifa-19-stadiums-list-la-liga-ps4-xbox-one-nintendo-switch\n",
      "https://www.polygon.com/2018/8/18/17750680/project-hardcore-dice-genesis-release-ps4-ps-vita\n",
      "https://www.polygon.com/tv/2018/8/18/17748068/netflix-video-promo-feature\n",
      "https://www.polygon.com/2018/7/30/17621870/comedy-twitter-james-gunn-dan-harmon-jokes\n",
      "https://www.polygon.com/2018/8/18/17746688/grand-theft-auto-5-menyoo-absolute-cheats-banned-lawsuit\n"
     ]
    }
   ],
   "source": [
    "almacenado = pd.DataFrame({\n",
    "        \"site\": '',\n",
    "        \"title\": '',\n",
    "        \"subtitle\": '',\n",
    "        \"parrafo\": p_final\n",
    "    })   \n",
    "almacenado['site'] = site\n",
    "almacenado['title'] = title\n",
    "almacenado['subtitle'] = subt\n",
    "\n",
    "for k in range(0, len(no_dupli_poly)):\n",
    "    print(no_dupli_poly[k])\n",
    "    \n",
    "    "
   ]
  },
  {
   "cell_type": "code",
   "execution_count": null,
   "metadata": {},
   "outputs": [],
   "source": []
  }
 ],
 "metadata": {
  "kernelspec": {
   "display_name": "Python 3",
   "language": "python",
   "name": "python3"
  },
  "language_info": {
   "codemirror_mode": {
    "name": "ipython",
    "version": 3
   },
   "file_extension": ".py",
   "mimetype": "text/x-python",
   "name": "python",
   "nbconvert_exporter": "python",
   "pygments_lexer": "ipython3",
   "version": "3.6.4"
  }
 },
 "nbformat": 4,
 "nbformat_minor": 2
}
