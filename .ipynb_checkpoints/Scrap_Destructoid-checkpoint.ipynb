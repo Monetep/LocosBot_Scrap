{
 "cells": [
  {
   "cell_type": "markdown",
   "metadata": {},
   "source": [
    "Objetivos de este NB:\n",
    "    -Obtener todos los links de la front page de Destructoid.com. COMPLETO\n",
    "    -Entrar a cada uno de los links, y obtener el titulo, y el texto de cada uno. COMPLETO\n",
    "    -Dejar en un formato tabular la informacion con las siguientes columnas: COMPLETO\n",
    "        -Pagina\n",
    "        -Titulo\n",
    "        -Subtitulo\n",
    "        -Parrafos_n"
   ]
  },
  {
   "cell_type": "code",
   "execution_count": 2,
   "metadata": {},
   "outputs": [
    {
     "name": "stderr",
     "output_type": "stream",
     "text": [
      "100%|██████████| 25/25 [01:45<00:00,  4.22s/it]\n"
     ]
    }
   ],
   "source": [
    "from bs4 import BeautifulSoup\n",
    "from urllib.request import Request, urlopen\n",
    "import pandas as pd\n",
    "import random\n",
    "import datetime\n",
    "import time\n",
    "from tqdm import tqdm\n",
    "\n",
    "site= \"https://www.destructoid.com/\"\n",
    "hdr = {'User-Agent': 'Mozilla/5.0'}\n",
    "\n",
    "req = Request(site,headers=hdr)\n",
    "page = urlopen(req)\n",
    "soup = BeautifulSoup(page, 'html.parser')\n",
    "\n",
    "final = pd.DataFrame()\n",
    "\n",
    "sparticle_title = soup.select(\"h2.sparticle_title a\")\n",
    "sparticle = []\n",
    "for i in range(0, len(sparticle_title)):\n",
    "    sparticle.append(sparticle_title[i].get('href'))\n",
    "\n",
    "links = pd.DataFrame({\n",
    "        \"links\": sparticle\n",
    "    })\n",
    "\n",
    "dtoid_link = links['dtoid_link'] = links[\"links\"].str.contains(\"http\")\n",
    "links = links[~dtoid_link]\n",
    "links['links'] = str(site) + links['links'].astype(str)\n",
    "\n",
    "\n",
    "def scrapeo_dtoid(review):\n",
    "                \n",
    "    req = Request(review,headers=hdr)\n",
    "    page = urlopen(req)\n",
    "    soup = BeautifulSoup(page, 'html.parser')\n",
    "    \n",
    "    links = pd.DataFrame({\n",
    "        \"links\": sparticle\n",
    "    })\n",
    "    \n",
    "    dtoid_link = links['dtoid_link'] = links[\"links\"].str.contains(\"http\")\n",
    "    links = links[~dtoid_link]\n",
    "    links['links'] = str(site) + links['links'].astype(str)    \n",
    "    \n",
    "    #Title\n",
    "    title = soup.find('title').get_text()    \n",
    "    #SubTitle\n",
    "    subtitle = soup.find(id=\"subtitle-large\")\n",
    "    subt = subtitle.get_text()    \n",
    "    #Parrafos\n",
    "    pars = soup.find_all('p')\n",
    "    parragraphs = [p.get_text() for p in pars]\n",
    "    \n",
    "    p_final = []\n",
    "    for i in range(0, len(parragraphs)):\n",
    "        if parragraphs[i] == '\\nYou are logged out. Login | Sign up\\xa0\\n\\xa0':\n",
    "            break\n",
    "        elif (\"https://t.co\" not in parragraphs[i]) and (parragraphs[i] != ''):\n",
    "            p_final.append(parragraphs[i])\n",
    "            \n",
    "    almacenado = pd.DataFrame({\n",
    "            \"site\": '',\n",
    "            \"title\": '',\n",
    "            \"subtitle\": '',\n",
    "            \"parrafo\": p_final\n",
    "        })   \n",
    "    almacenado['site'] = site\n",
    "    almacenado['title'] = title\n",
    "    almacenado['subtitle'] = subt\n",
    "\n",
    "    for i in range(0, len(almacenado)):\n",
    "        if almacenado['subtitle'][i] == almacenado['parrafo'][i]:\n",
    "            almacenado = almacenado.drop(almacenado.index[i])\n",
    "                    \n",
    "    return almacenado\n",
    "        \n",
    "lista_links_dtoid = links['links'].drop_duplicates().values.tolist()\n",
    "for i in tqdm(range(0, len(lista_links_dtoid))):    \n",
    "    final = final.append(scrapeo_dtoid(lista_links_dtoid[i]))\n",
    "    time.sleep(random.randint(1, 4))    \n",
    "    \n",
    "file_time = 'dtoid_scrap_{date:%Y-%m-%d_%H_%M_%S}.csv'.format(date=datetime.datetime.now())\n",
    "              \n",
    "final.to_csv(file_time, sep='|', index=False)"
   ]
  },
  {
   "cell_type": "code",
   "execution_count": 64,
   "metadata": {},
   "outputs": [
    {
     "data": {
      "text/plain": [
       "'dtoid_scrap_2018-08-20_03_44_07.csv'"
      ]
     },
     "execution_count": 64,
     "metadata": {},
     "output_type": "execute_result"
    }
   ],
   "source": [
    "file_time"
   ]
  },
  {
   "cell_type": "markdown",
   "metadata": {},
   "source": [
    "Desde acá comienza el nb para desarrollo."
   ]
  },
  {
   "cell_type": "code",
   "execution_count": 53,
   "metadata": {},
   "outputs": [],
   "source": [
    "from bs4 import BeautifulSoup\n",
    "from urllib.request import Request, urlopen\n",
    "import pandas as pd\n",
    "import random\n",
    "import time\n",
    "import datetime"
   ]
  },
  {
   "cell_type": "code",
   "execution_count": 54,
   "metadata": {},
   "outputs": [],
   "source": [
    "site= \"https://www.destructoid.com/\""
   ]
  },
  {
   "cell_type": "code",
   "execution_count": 55,
   "metadata": {},
   "outputs": [
    {
     "data": {
      "text/plain": [
       "200"
      ]
     },
     "execution_count": 55,
     "metadata": {},
     "output_type": "execute_result"
    }
   ],
   "source": [
    "hdr = {'User-Agent': 'Mozilla/5.0'}\n",
    "req = Request(site,headers=hdr)\n",
    "page = urlopen(req)\n",
    "soup = BeautifulSoup(page, 'html.parser')\n",
    "page.status"
   ]
  },
  {
   "cell_type": "code",
   "execution_count": 56,
   "metadata": {
    "scrolled": true
   },
   "outputs": [],
   "source": [
    "sparticle_title = soup.select(\"h2.sparticle_title a\")\n",
    "sparticle = []\n",
    "for i in range(0, len(sparticle_title)):\n",
    "    sparticle.append(sparticle_title[i].get('href'))\n",
    "\n",
    "links = pd.DataFrame({\n",
    "        \"links\": sparticle\n",
    "    })"
   ]
  },
  {
   "cell_type": "code",
   "execution_count": 57,
   "metadata": {},
   "outputs": [
    {
     "data": {
      "text/html": [
       "<div>\n",
       "<style scoped>\n",
       "    .dataframe tbody tr th:only-of-type {\n",
       "        vertical-align: middle;\n",
       "    }\n",
       "\n",
       "    .dataframe tbody tr th {\n",
       "        vertical-align: top;\n",
       "    }\n",
       "\n",
       "    .dataframe thead th {\n",
       "        text-align: right;\n",
       "    }\n",
       "</style>\n",
       "<table border=\"1\" class=\"dataframe\">\n",
       "  <thead>\n",
       "    <tr style=\"text-align: right;\">\n",
       "      <th></th>\n",
       "      <th>links</th>\n",
       "      <th>dtoid_link</th>\n",
       "    </tr>\n",
       "  </thead>\n",
       "  <tbody>\n",
       "    <tr>\n",
       "      <th>0</th>\n",
       "      <td>https://www.destructoid.com/ligma--519065.phtml</td>\n",
       "      <td>False</td>\n",
       "    </tr>\n",
       "    <tr>\n",
       "      <th>1</th>\n",
       "      <td>https://www.destructoid.com/giveaway-have-a-ball-with-johnny-turbo-s-arcade-nitro-ball-for-switch--518791.phtml</td>\n",
       "      <td>False</td>\n",
       "    </tr>\n",
       "    <tr>\n",
       "      <th>2</th>\n",
       "      <td>https://www.destructoid.com/review-holy-diver-collector-s-edition-516955.phtml</td>\n",
       "      <td>False</td>\n",
       "    </tr>\n",
       "    <tr>\n",
       "      <th>3</th>\n",
       "      <td>https://www.destructoid.com/gantaku-s-king-of-fighters-xiv-figurine-range-includes-kyo-iori-and-mai-shiranui-518758.phtml</td>\n",
       "      <td>False</td>\n",
       "    </tr>\n",
       "    <tr>\n",
       "      <th>5</th>\n",
       "      <td>https://www.destructoid.com/review-in-progress-world-of-warcraft-battle-for-azeroth-515131.phtml</td>\n",
       "      <td>False</td>\n",
       "    </tr>\n",
       "    <tr>\n",
       "      <th>6</th>\n",
       "      <td>https://www.destructoid.com/it-s-back-to-school-season-and-we-want-to-know-which-video-game-school-you-d-attend-518238.phtml</td>\n",
       "      <td>False</td>\n",
       "    </tr>\n",
       "    <tr>\n",
       "      <th>7</th>\n",
       "      <td>https://www.destructoid.com/review-the-walking-dead-the-final-season-done-running-516418.phtml</td>\n",
       "      <td>False</td>\n",
       "    </tr>\n",
       "    <tr>\n",
       "      <th>8</th>\n",
       "      <td>https://www.destructoid.com/it-turns-out-you-can-piss-off-zelda-cuccos-even-in-the-diablo-universe-518755.phtml</td>\n",
       "      <td>False</td>\n",
       "    </tr>\n",
       "    <tr>\n",
       "      <th>9</th>\n",
       "      <td>https://www.destructoid.com/soulcalibur-vi-reportedly-gone-gold-more-character-and-story-details-teased-519000.phtml</td>\n",
       "      <td>False</td>\n",
       "    </tr>\n",
       "    <tr>\n",
       "      <th>10</th>\n",
       "      <td>https://www.destructoid.com/this-metal-gear-solid-psycho-mantis-statue-looks-kind-of-nice-518885.phtml</td>\n",
       "      <td>False</td>\n",
       "    </tr>\n",
       "    <tr>\n",
       "      <th>11</th>\n",
       "      <td>https://www.destructoid.com/anna-and-lei-wulong-join-tekken-7-at-the-start-of-september-519001.phtml</td>\n",
       "      <td>False</td>\n",
       "    </tr>\n",
       "    <tr>\n",
       "      <th>12</th>\n",
       "      <td>https://www.destructoid.com/we-talk-ninja-flips-metroidvanias-and-the-25-year-journey-of-the-messenger-with-creator-thierry-boulanger-518396.phtml</td>\n",
       "      <td>False</td>\n",
       "    </tr>\n",
       "    <tr>\n",
       "      <th>13</th>\n",
       "      <td>https://www.destructoid.com/giveaway-scream-like-a-banshee-for-these-wailing-heights-keys-518766.phtml</td>\n",
       "      <td>False</td>\n",
       "    </tr>\n",
       "    <tr>\n",
       "      <th>14</th>\n",
       "      <td>https://www.destructoid.com/review-wailing-heights-518912.phtml</td>\n",
       "      <td>False</td>\n",
       "    </tr>\n",
       "    <tr>\n",
       "      <th>15</th>\n",
       "      <td>https://www.destructoid.com/seeking-serenity-in-train-sim-world-518914.phtml</td>\n",
       "      <td>False</td>\n",
       "    </tr>\n",
       "    <tr>\n",
       "      <th>16</th>\n",
       "      <td>https://www.destructoid.com/link-s-awakening-is-one-of-the-best-zeldas-if-not-the-best-and-this-bead-art-helps-make-the-case-518591.phtml</td>\n",
       "      <td>False</td>\n",
       "    </tr>\n",
       "    <tr>\n",
       "      <th>17</th>\n",
       "      <td>https://www.destructoid.com/those-dang-spear-jerks-are-the-bane-of-my-existence-in-dead-cells-518822.phtml</td>\n",
       "      <td>False</td>\n",
       "    </tr>\n",
       "    <tr>\n",
       "      <th>18</th>\n",
       "      <td>https://www.destructoid.com/review-la-mulana-2-518400.phtml</td>\n",
       "      <td>False</td>\n",
       "    </tr>\n",
       "    <tr>\n",
       "      <th>19</th>\n",
       "      <td>https://www.destructoid.com/these-slick-statues-of-guile-and-nash-might-not-be-affordable-for-family-men-518756.phtml</td>\n",
       "      <td>False</td>\n",
       "    </tr>\n",
       "    <tr>\n",
       "      <th>20</th>\n",
       "      <td>https://www.destructoid.com/burning-crusade-is-still-the-greatest-world-of-warcraft-expansion-but-you-can-weigh-in-on-second-place-here-518586.phtml</td>\n",
       "      <td>False</td>\n",
       "    </tr>\n",
       "    <tr>\n",
       "      <th>21</th>\n",
       "      <td>https://www.destructoid.com/maverick-coming-to-play-peekaboo-as-rainbow-six-siege-s-next-operator-518900.phtml</td>\n",
       "      <td>False</td>\n",
       "    </tr>\n",
       "    <tr>\n",
       "      <th>22</th>\n",
       "      <td>https://www.destructoid.com/nvidia-expected-to-unveil-rtx-2080-and-2080-ti-video-cards-next-week-518872.phtml</td>\n",
       "      <td>False</td>\n",
       "    </tr>\n",
       "    <tr>\n",
       "      <th>23</th>\n",
       "      <td>https://www.destructoid.com/review-mary-skelter-nightmares-516958.phtml</td>\n",
       "      <td>False</td>\n",
       "    </tr>\n",
       "    <tr>\n",
       "      <th>24</th>\n",
       "      <td>https://www.destructoid.com/whatcha-been-playing-this-week-destructoid--518750.phtml</td>\n",
       "      <td>False</td>\n",
       "    </tr>\n",
       "    <tr>\n",
       "      <th>25</th>\n",
       "      <td>https://www.destructoid.com/fight-the-robot-apocalypse-in-sweden-with-your-pals-in-generation-zero-518816.phtml</td>\n",
       "      <td>False</td>\n",
       "    </tr>\n",
       "  </tbody>\n",
       "</table>\n",
       "</div>"
      ],
      "text/plain": [
       "                                                                                                                                                   links  \\\n",
       "0                                                                                                        https://www.destructoid.com/ligma--519065.phtml   \n",
       "1                                        https://www.destructoid.com/giveaway-have-a-ball-with-johnny-turbo-s-arcade-nitro-ball-for-switch--518791.phtml   \n",
       "2                                                                         https://www.destructoid.com/review-holy-diver-collector-s-edition-516955.phtml   \n",
       "3                              https://www.destructoid.com/gantaku-s-king-of-fighters-xiv-figurine-range-includes-kyo-iori-and-mai-shiranui-518758.phtml   \n",
       "5                                                       https://www.destructoid.com/review-in-progress-world-of-warcraft-battle-for-azeroth-515131.phtml   \n",
       "6                           https://www.destructoid.com/it-s-back-to-school-season-and-we-want-to-know-which-video-game-school-you-d-attend-518238.phtml   \n",
       "7                                                         https://www.destructoid.com/review-the-walking-dead-the-final-season-done-running-516418.phtml   \n",
       "8                                        https://www.destructoid.com/it-turns-out-you-can-piss-off-zelda-cuccos-even-in-the-diablo-universe-518755.phtml   \n",
       "9                                   https://www.destructoid.com/soulcalibur-vi-reportedly-gone-gold-more-character-and-story-details-teased-519000.phtml   \n",
       "10                                                https://www.destructoid.com/this-metal-gear-solid-psycho-mantis-statue-looks-kind-of-nice-518885.phtml   \n",
       "11                                                  https://www.destructoid.com/anna-and-lei-wulong-join-tekken-7-at-the-start-of-september-519001.phtml   \n",
       "12    https://www.destructoid.com/we-talk-ninja-flips-metroidvanias-and-the-25-year-journey-of-the-messenger-with-creator-thierry-boulanger-518396.phtml   \n",
       "13                                                https://www.destructoid.com/giveaway-scream-like-a-banshee-for-these-wailing-heights-keys-518766.phtml   \n",
       "14                                                                                       https://www.destructoid.com/review-wailing-heights-518912.phtml   \n",
       "15                                                                          https://www.destructoid.com/seeking-serenity-in-train-sim-world-518914.phtml   \n",
       "16             https://www.destructoid.com/link-s-awakening-is-one-of-the-best-zeldas-if-not-the-best-and-this-bead-art-helps-make-the-case-518591.phtml   \n",
       "17                                            https://www.destructoid.com/those-dang-spear-jerks-are-the-bane-of-my-existence-in-dead-cells-518822.phtml   \n",
       "18                                                                                           https://www.destructoid.com/review-la-mulana-2-518400.phtml   \n",
       "19                                 https://www.destructoid.com/these-slick-statues-of-guile-and-nash-might-not-be-affordable-for-family-men-518756.phtml   \n",
       "20  https://www.destructoid.com/burning-crusade-is-still-the-greatest-world-of-warcraft-expansion-but-you-can-weigh-in-on-second-place-here-518586.phtml   \n",
       "21                                        https://www.destructoid.com/maverick-coming-to-play-peekaboo-as-rainbow-six-siege-s-next-operator-518900.phtml   \n",
       "22                                         https://www.destructoid.com/nvidia-expected-to-unveil-rtx-2080-and-2080-ti-video-cards-next-week-518872.phtml   \n",
       "23                                                                               https://www.destructoid.com/review-mary-skelter-nightmares-516958.phtml   \n",
       "24                                                                  https://www.destructoid.com/whatcha-been-playing-this-week-destructoid--518750.phtml   \n",
       "25                                       https://www.destructoid.com/fight-the-robot-apocalypse-in-sweden-with-your-pals-in-generation-zero-518816.phtml   \n",
       "\n",
       "    dtoid_link  \n",
       "0        False  \n",
       "1        False  \n",
       "2        False  \n",
       "3        False  \n",
       "5        False  \n",
       "6        False  \n",
       "7        False  \n",
       "8        False  \n",
       "9        False  \n",
       "10       False  \n",
       "11       False  \n",
       "12       False  \n",
       "13       False  \n",
       "14       False  \n",
       "15       False  \n",
       "16       False  \n",
       "17       False  \n",
       "18       False  \n",
       "19       False  \n",
       "20       False  \n",
       "21       False  \n",
       "22       False  \n",
       "23       False  \n",
       "24       False  \n",
       "25       False  "
      ]
     },
     "execution_count": 57,
     "metadata": {},
     "output_type": "execute_result"
    }
   ],
   "source": [
    "dtoid_link = links['dtoid_link'] = links[\"links\"].str.contains(\"http\")\n",
    "links = links[~dtoid_link]\n",
    "links['links'] = str(site) + links['links'].astype(str)\n",
    "links"
   ]
  },
  {
   "cell_type": "code",
   "execution_count": 40,
   "metadata": {},
   "outputs": [
    {
     "data": {
      "text/html": [
       "<div>\n",
       "<style scoped>\n",
       "    .dataframe tbody tr th:only-of-type {\n",
       "        vertical-align: middle;\n",
       "    }\n",
       "\n",
       "    .dataframe tbody tr th {\n",
       "        vertical-align: top;\n",
       "    }\n",
       "\n",
       "    .dataframe thead th {\n",
       "        text-align: right;\n",
       "    }\n",
       "</style>\n",
       "<table border=\"1\" class=\"dataframe\">\n",
       "  <thead>\n",
       "    <tr style=\"text-align: right;\">\n",
       "      <th></th>\n",
       "      <th>links</th>\n",
       "      <th>dtoid_link</th>\n",
       "    </tr>\n",
       "  </thead>\n",
       "  <tbody>\n",
       "  </tbody>\n",
       "</table>\n",
       "</div>"
      ],
      "text/plain": [
       "Empty DataFrame\n",
       "Columns: [links, dtoid_link]\n",
       "Index: []"
      ]
     },
     "execution_count": 40,
     "metadata": {},
     "output_type": "execute_result"
    }
   ],
   "source": [
    "#links['links']"
   ]
  },
  {
   "cell_type": "code",
   "execution_count": 7,
   "metadata": {},
   "outputs": [
    {
     "name": "stdout",
     "output_type": "stream",
     "text": [
      "0     True\n",
      "1     True\n",
      "2     True\n",
      "3     True\n",
      "5     True\n",
      "6     True\n",
      "7     True\n",
      "8     True\n",
      "9     True\n",
      "10    True\n",
      "11    True\n",
      "12    True\n",
      "13    True\n",
      "14    True\n",
      "15    True\n",
      "16    True\n",
      "17    True\n",
      "18    True\n",
      "19    True\n",
      "20    True\n",
      "21    True\n",
      "22    True\n",
      "23    True\n",
      "24    True\n",
      "25    True\n",
      "Name: links, dtype: bool\n"
     ]
    }
   ],
   "source": [
    "dtoid_link = links['dtoid_link'] = links[\"links\"].str.contains(\"http\")\n",
    "links = links[~dtoid_link]\n",
    "links['links'] = str(site) + links['links'].astype(str)\n",
    "pd.options.display.max_colwidth = 200"
   ]
  },
  {
   "cell_type": "code",
   "execution_count": 158,
   "metadata": {},
   "outputs": [
    {
     "data": {
      "text/plain": [
       "'https://www.destructoid.com/review-in-progress-world-of-warcraft-battle-for-azeroth-515131.phtml'"
      ]
     },
     "execution_count": 158,
     "metadata": {},
     "output_type": "execute_result"
    }
   ],
   "source": [
    "lista_links_dtoid = links['links'].drop_duplicates().values.tolist()\n",
    "#for i in range(0, len(lista_links_dtoid)):\n",
    "#    print(lista_links_dtoid[i])\n",
    "#    time.sleep(random.randint(1, 3))\n",
    "\n",
    "review = lista_links_dtoid[1]\n",
    "req = Request(review,headers=hdr)\n",
    "page = urlopen(req)\n",
    "soup = BeautifulSoup(page, 'html.parser')"
   ]
  },
  {
   "cell_type": "code",
   "execution_count": 160,
   "metadata": {},
   "outputs": [],
   "source": [
    "#Title\n",
    "title = soup.find('title').get_text()\n",
    "#SubTitle\n",
    "subtitle = soup.find(id=\"subtitle-large\")\n",
    "subt = subtitle.get_text()\n",
    "#Parrafos\n",
    "pars = soup.find_all('p')\n",
    "\n",
    "#p2 = [p.extract() for p in pars]\n",
    "parragraphs = [p.get_text() for p in pars]"
   ]
  },
  {
   "cell_type": "code",
   "execution_count": 161,
   "metadata": {},
   "outputs": [],
   "source": [
    "p_final = []\n",
    "for i in range(0, len(parragraphs)):\n",
    "    if parragraphs[i] == '\\nYou are logged out. Login | Sign up\\xa0\\n\\xa0':\n",
    "        break\n",
    "    elif (\"https://t.co\" not in parragraphs[i]) and (parragraphs[i] != ''):\n",
    "        p_final.append(parragraphs[i])"
   ]
  },
  {
   "cell_type": "code",
   "execution_count": 199,
   "metadata": {},
   "outputs": [
    {
     "name": "stdout",
     "output_type": "stream",
     "text": [
      "dtoid_scrap_2018-08-19_19_53_17.csv\n"
     ]
    }
   ],
   "source": [
    "almacenado = pd.DataFrame({\n",
    "        \"site\": '',\n",
    "        \"title\": '',\n",
    "        \"subtitle\": '',\n",
    "        \"parrafo\": p_final\n",
    "    })   \n",
    "almacenado['site'] = site\n",
    "almacenado['title'] = title\n",
    "almacenado['subtitle'] = subt\n",
    "\n",
    "for i in range(0, len(almacenado)):\n",
    "    if almacenado['subtitle'][i] == almacenado['parrafo'][i]:\n",
    "        almacenado = almacenado.drop(almacenado.index[i])\n",
    "\n",
    "almacenado\n",
    "\n",
    "file_time = 'dtoid_scrap_{date:%Y-%m-%d_%H_%M_%S}.csv'.format(date=datetime.datetime.now())\n",
    "              \n",
    "almacenado.to_csv(file_time, sep='|')"
   ]
  }
 ],
 "metadata": {
  "kernelspec": {
   "display_name": "Python 3",
   "language": "python",
   "name": "python3"
  },
  "language_info": {
   "codemirror_mode": {
    "name": "ipython",
    "version": 3
   },
   "file_extension": ".py",
   "mimetype": "text/x-python",
   "name": "python",
   "nbconvert_exporter": "python",
   "pygments_lexer": "ipython3",
   "version": "3.6.4"
  }
 },
 "nbformat": 4,
 "nbformat_minor": 2
}
