{
 "cells": [
  {
   "cell_type": "code",
   "execution_count": 1,
   "metadata": {},
   "outputs": [
    {
     "name": "stdout",
     "output_type": "stream",
     "text": [
      "Requirement already satisfied: requests in c:\\users\\sebastian tempone\\anaconda3\\lib\\site-packages\n",
      "Requirement already satisfied: chardet<3.1.0,>=3.0.2 in c:\\users\\sebastian tempone\\anaconda3\\lib\\site-packages (from requests)\n",
      "Requirement already satisfied: idna<2.7,>=2.5 in c:\\users\\sebastian tempone\\anaconda3\\lib\\site-packages (from requests)\n",
      "Requirement already satisfied: urllib3<1.23,>=1.21.1 in c:\\users\\sebastian tempone\\anaconda3\\lib\\site-packages (from requests)\n",
      "Requirement already satisfied: certifi>=2017.4.17 in c:\\users\\sebastian tempone\\anaconda3\\lib\\site-packages (from requests)\n"
     ]
    },
    {
     "name": "stderr",
     "output_type": "stream",
     "text": [
      "You are using pip version 9.0.1, however version 18.0 is available.\n",
      "You should consider upgrading via the 'python -m pip install --upgrade pip' command.\n"
     ]
    }
   ],
   "source": [
    "!pip install requests"
   ]
  },
  {
   "cell_type": "code",
   "execution_count": 2,
   "metadata": {},
   "outputs": [
    {
     "name": "stdout",
     "output_type": "stream",
     "text": [
      "Requirement already satisfied: beautifulsoup4 in c:\\users\\sebastian tempone\\anaconda3\\lib\\site-packages\n"
     ]
    },
    {
     "name": "stderr",
     "output_type": "stream",
     "text": [
      "You are using pip version 9.0.1, however version 18.0 is available.\n",
      "You should consider upgrading via the 'python -m pip install --upgrade pip' command.\n"
     ]
    }
   ],
   "source": [
    "!pip install beautifulsoup4"
   ]
  },
  {
   "cell_type": "code",
   "execution_count": 10,
   "metadata": {},
   "outputs": [],
   "source": [
    "from bs4 import BeautifulSoup\n",
    "from urllib.request import Request, urlopen"
   ]
  },
  {
   "cell_type": "code",
   "execution_count": 6,
   "metadata": {},
   "outputs": [],
   "source": [
    "sites = []\n",
    "#sites.append(\"https://www.ign.com/?setccpref=US\")\n",
    "sites.append(\"https://www.polygon.com\")\n",
    "sites.append(\"https://www.destructoid.com\")\n",
    "#sites.append(\"https://www.giantbomb.com/\")\n",
    "sites.append(\"https://www.eurogamer.net/\")\n",
    "sites.append(\"https://www.gamesradar.com\")\n",
    "sites.append(\"https://www.gameinformer.com\")\n",
    "sites.append(\"https://www.vg247.com\")\n",
    "sites.append(\"https://fextralife.com\")\n",
    "sites.append(\"http://www.siliconera.com\")\n",
    "sites.append(\"http://n4g.com\")\n",
    "sites.append(\"https://www.gamerevolution.com\")\n",
    "sites.append(\"https://www.shacknews.com\")\n",
    "sites.append(\"http://gamingtrend.com\")\n",
    "sites.append(\"http://www.gamegrep.com\")\n",
    "sites.append(\"http://gameranx.com/\")"
   ]
  },
  {
   "cell_type": "code",
   "execution_count": 7,
   "metadata": {},
   "outputs": [
    {
     "data": {
      "text/plain": [
       "['https://www.ign.com/?setccpref=US',\n",
       " 'https://www.polygon.com',\n",
       " 'https://www.destructoid.com',\n",
       " 'https://www.giantbomb.com/',\n",
       " 'https://www.eurogamer.net/',\n",
       " 'https://www.gamesradar.com',\n",
       " 'https://www.gameinformer.com',\n",
       " 'https://www.vg247.com',\n",
       " 'https://fextralife.com',\n",
       " 'http://www.siliconera.com',\n",
       " 'http://n4g.com',\n",
       " 'https://www.gamerevolution.com',\n",
       " 'https://www.shacknews.com',\n",
       " 'http://gamingtrend.com',\n",
       " 'http://www.gamegrep.com']"
      ]
     },
     "execution_count": 7,
     "metadata": {},
     "output_type": "execute_result"
    }
   ],
   "source": [
    "sites"
   ]
  },
  {
   "cell_type": "code",
   "execution_count": 34,
   "metadata": {},
   "outputs": [],
   "source": [
    "site= \"https://www.polygon.com/2018/8/17/17702466/graveyard-keeper-farming-sim-pc-xbox-one\"\n",
    "hdr = {'User-Agent': 'Mozilla/5.0'}\n",
    "req = Request(site,headers=hdr)\n",
    "page = urlopen(req)\n",
    "soup = BeautifulSoup(page, 'html.parser')"
   ]
  },
  {
   "cell_type": "code",
   "execution_count": 33,
   "metadata": {},
   "outputs": [
    {
     "data": {
      "text/plain": [
       "200"
      ]
     },
     "execution_count": 33,
     "metadata": {},
     "output_type": "execute_result"
    }
   ],
   "source": [
    "page.status"
   ]
  },
  {
   "cell_type": "code",
   "execution_count": 35,
   "metadata": {},
   "outputs": [
    {
     "data": {
      "text/plain": [
       "<title>Graveyard Keeper is a dark, challenging take on Stardew Valley - Polygon</title>"
      ]
     },
     "execution_count": 35,
     "metadata": {},
     "output_type": "execute_result"
    }
   ],
   "source": [
    "'''Obtener el title usando BS4'''\n",
    "soup.title"
   ]
  },
  {
   "cell_type": "code",
   "execution_count": 23,
   "metadata": {},
   "outputs": [
    {
     "name": "stdout",
     "output_type": "stream",
     "text": [
      "/\n",
      "https://twitter.com/Polygon\n",
      "https://www.facebook.com/polygon\n",
      "https://www.youtube.com/user/polygon\n",
      "/pages/newsletter\n",
      "https://auth.voxmedia.com/login?return_to=https%3A%2F%2Fwww.polygon.com%2F\n",
      "https://auth.voxmedia.com/login?return_to=https%3A%2F%2Fwww.polygon.com%2F\n",
      "https://auth.voxmedia.com/signup?return_to=https%3A%2F%2Fwww.polygon.com%2F\n",
      "/news\n",
      "/reviews\n",
      "/features\n",
      "/guides\n",
      "/esports\n",
      "/videos\n",
      "/entertainment\n",
      "/podcasts\n",
      "None\n",
      "/news\n",
      "/reviews\n",
      "/features\n",
      "/guides\n",
      "/esports\n",
      "https://www.riftherald.com\n",
      "https://www.heroesneverdie.com\n",
      "https://www.theflyingcourier.com\n",
      "/videos\n",
      "/entertainment\n",
      "/movies\n",
      "/tv\n",
      "/comics\n",
      "/podcasts\n",
      "https://www.polygon.com/features/2018/8/17/17705486/revisiting-the-order-1886-ready-at-dawn\n",
      "https://www.polygon.com/features\n",
      "https://www.polygon.com/features/2018/8/17/17705486/revisiting-the-order-1886-ready-at-dawn\n",
      "https://www.polygon.com/authors/blake-hester\n",
      "None\n",
      "https://www.polygon.com/interviews/2018/8/17/17697560/world-of-warcraft-battle-for-azeroth-interview-blizzard-horde-alliance-wow\n",
      "https://www.polygon.com/interviews\n",
      "https://www.polygon.com/interviews/2018/8/17/17697560/world-of-warcraft-battle-for-azeroth-interview-blizzard-horde-alliance-wow\n",
      "https://www.polygon.com/users/Ryan%20Gilliam\n",
      "None\n",
      "https://www.polygon.com/2018/8/17/17723274/catwoman-batman-returns-spinoff-movie-john-august\n",
      "https://www.polygon.com/movies\n",
      "https://www.polygon.com/2018/8/17/17723274/catwoman-batman-returns-spinoff-movie-john-august\n",
      "https://www.polygon.com/users/PalmerHaasch\n",
      "None\n",
      "https://www.polygon.com/2018/8/17/17705568/harry-potter-fan-fiction-musical-puppet-pals-creators\n",
      "https://www.polygon.com/culture\n",
      "https://www.polygon.com/2018/8/17/17705568/harry-potter-fan-fiction-musical-puppet-pals-creators\n",
      "https://www.polygon.com/users/Petrana%20Radulovic\n",
      "None\n",
      "https://www.polygon.com/the-polygon-show/2018/7/19/17591066/the-polygon-show-upcoming-live-events-flamecon-nyc-play\n",
      "https://www.polygon.com/the-polygon-show\n",
      "https://www.polygon.com/the-polygon-show/2018/7/19/17591066/the-polygon-show-upcoming-live-events-flamecon-nyc-play\n",
      "https://www.polygon.com/users/Ashley%20Oh\n",
      "None\n",
      "https://www.polygon.com/2018/8/17/17702466/graveyard-keeper-farming-sim-pc-xbox-one\n",
      "https://www.polygon.com/impressions\n",
      "https://www.polygon.com/2018/8/17/17702466/graveyard-keeper-farming-sim-pc-xbox-one\n",
      "https://www.polygon.com/users/jefframospolygon\n",
      "None\n",
      "https://www.polygon.com/2018/8/17/17722552/indie-megabooth-pax-west-trailer\n",
      "https://www.polygon.com/news\n",
      "https://www.polygon.com/2018/8/17/17722552/indie-megabooth-pax-west-trailer\n",
      "https://www.polygon.com/users/Charlie%20Hall\n",
      "None\n",
      "https://www.polygon.com/comics/2018/8/13/17676792/new-sandman-neil-gaiman-dc-comics-vertigo-universe\n",
      "https://www.polygon.com/comics\n",
      "https://www.polygon.com/comics/2018/8/13/17676792/new-sandman-neil-gaiman-dc-comics-vertigo-universe\n",
      "https://www.polygon.com/users/Susana%20Polo\n",
      "None\n",
      "https://www.polygon.com/2018/8/9/17670428/madden-nfl-19-review-ps4-xbox-one-pc\n",
      "https://www.polygon.com/reviews\n",
      "https://www.polygon.com/2018/8/9/17670428/madden-nfl-19-review-ps4-xbox-one-pc\n",
      "https://www.polygon.com/users/Owen%20S.%20Good\n",
      "None\n",
      "https://www.polygon.com/2018/8/9/17669136/we-happy-few-review-xbox-one-playstation-4-windows-pc\n",
      "https://www.polygon.com/reviews\n",
      "https://www.polygon.com/2018/8/9/17669136/we-happy-few-review-xbox-one-playstation-4-windows-pc\n",
      "https://www.polygon.com/users/Colin%20Campbell\n",
      "None\n",
      "https://www.polygon.com/2018/8/6/17648630/dead-cells-review-nintendo-switch-ps4-xbox-one-pc\n",
      "https://www.polygon.com/reviews\n",
      "https://www.polygon.com/2018/8/6/17648630/dead-cells-review-nintendo-switch-ps4-xbox-one-pc\n",
      "https://www.polygon.com/users/Ben%20Kuchera\n",
      "None\n",
      "https://www.polygon.com/videos/2018/8/14/17686370/luigi-nintendo-punching-bag-joke\n",
      "https://www.polygon.com/videos\n",
      "https://www.polygon.com/videos/2018/8/14/17686370/luigi-nintendo-punching-bag-joke\n",
      "https://www.polygon.com/users/Brian%20Gilbert\n",
      "None\n",
      "https://www.polygon.com/reviews\n",
      "https://www.polygon.com/videos\n",
      "https://www.polygon.com/2018/8/17/17722986/far-cry-5-dead-living-zombies-release-date-ps4-xbox-one-pc\n",
      "https://www.polygon.com/2018/8/17/17722986/far-cry-5-dead-living-zombies-release-date-ps4-xbox-one-pc\n",
      "https://www.polygon.com/users/Owen%20S.%20Good\n",
      "https://www.polygon.com/2018/8/17/17722986/far-cry-5-dead-living-zombies-release-date-ps4-xbox-one-pc#comments\n",
      "None\n",
      "https://www.polygon.com/2018/8/17/17722316/ksi-logan-paul-diss-track-avengers-infinity-war-thanos-jake-paul-team-10-shining-youtube\n",
      "https://www.polygon.com/2018/8/17/17722316/ksi-logan-paul-diss-track-avengers-infinity-war-thanos-jake-paul-team-10-shining-youtube\n",
      "https://www.polygon.com/users/Julia%20Alexander\n",
      "https://www.polygon.com/2018/8/17/17722316/ksi-logan-paul-diss-track-avengers-infinity-war-thanos-jake-paul-team-10-shining-youtube#comments\n",
      "None\n",
      "https://www.polygon.com/destiny-2-guide-walkthrough/2018/8/17/17722858/destiny-2-xur-location-and-items-aug-17-20\n",
      "https://www.polygon.com/destiny-2-guide-walkthrough/2018/8/17/17722858/destiny-2-xur-location-and-items-aug-17-20\n",
      "https://www.polygon.com/users/Ryan%20Gilliam\n",
      "https://www.polygon.com/destiny-2-guide-walkthrough/2018/8/17/17722858/destiny-2-xur-location-and-items-aug-17-20#comments\n",
      "None\n",
      "https://www.polygon.com/2018/8/16/17695698/yakuza-2-kiwami-preview-impressions-ps4\n",
      "https://www.polygon.com/2018/8/16/17695698/yakuza-2-kiwami-preview-impressions-ps4\n",
      "https://www.polygon.com/users/Ashley%20Oh\n",
      "https://www.polygon.com/2018/8/16/17695698/yakuza-2-kiwami-preview-impressions-ps4#comments\n",
      "None\n",
      "https://www.polygon.com/2018/8/17/17714704/destiny-2-forsaken-changes-competitive-multiplayer-pvp-redrix-claymore-broadsword-bungie\n",
      "https://www.polygon.com/2018/8/17/17714704/destiny-2-forsaken-changes-competitive-multiplayer-pvp-redrix-claymore-broadsword-bungie\n",
      "https://www.polygon.com/users/Ryan%20Gilliam\n",
      "None\n",
      "https://www.polygon.com/2018/8/17/17718232/battlefield-5-trailer-breakdown-analysis-maps\n",
      "https://www.polygon.com/2018/8/17/17718232/battlefield-5-trailer-breakdown-analysis-maps\n",
      "https://www.polygon.com/users/Charlie%20Hall\n",
      "https://www.polygon.com/2018/8/17/17718232/battlefield-5-trailer-breakdown-analysis-maps#comments\n",
      "None\n",
      "https://www.polygon.com/2018/8/17/17719886/pubg-fix-update-patch-notes-20-beryl-scooter\n",
      "https://www.polygon.com/2018/8/17/17719886/pubg-fix-update-patch-notes-20-beryl-scooter\n",
      "https://www.polygon.com/users/Austen%20Goslin\n",
      "None\n",
      "https://www.polygon.com/2018/8/17/17717830/spider-man-ps4-trailer-remixes\n",
      "https://www.polygon.com/2018/8/17/17717830/spider-man-ps4-trailer-remixes\n",
      "https://www.polygon.com/users/Petrana%20Radulovic\n",
      "https://www.polygon.com/2018/8/17/17717830/spider-man-ps4-trailer-remixes#comments\n",
      "None\n",
      "https://www.polygon.com/tv/2018/8/17/17718472/star-wars-resistance-trailer-disney-channel\n",
      "https://www.polygon.com/tv/2018/8/17/17718472/star-wars-resistance-trailer-disney-channel\n",
      "https://www.polygon.com/users/PalmerHaasch\n",
      "https://www.polygon.com/tv/2018/8/17/17718472/star-wars-resistance-trailer-disney-channel#comments\n",
      "None\n",
      "https://www.polygon.com/2018/8/17/17718190/pokemon-go-regirock-raid-battle-dates\n",
      "https://www.polygon.com/2018/8/17/17718190/pokemon-go-regirock-raid-battle-dates\n",
      "https://www.polygon.com/users/Allegra%20Frank\n",
      "https://www.polygon.com/2018/8/17/17718190/pokemon-go-regirock-raid-battle-dates#comments\n",
      "None\n",
      "https://www.polygon.com/2018/8/17/17715602/spyro-reignited-trilogy-delay-release-date\n",
      "https://www.polygon.com/2018/8/17/17715602/spyro-reignited-trilogy-delay-release-date\n",
      "https://www.polygon.com/users/mikemcwhertor\n",
      "https://www.polygon.com/2018/8/17/17715602/spyro-reignited-trilogy-delay-release-date#comments\n",
      "None\n",
      "https://www.polygon.com/guides/2018/1/25/16911176/monster-hunter-world-guide-walkthrough\n",
      "https://www.polygon.com/guides/2018/1/25/16911176/monster-hunter-world-guide-walkthrough\n",
      "https://www.polygon.com/guides/2018/1/25/16911176/monster-hunter-world-guide-walkthrough\n",
      "None\n",
      "https://www.polygon.com/2018/8/17/17715236/twitch-messages-glitch-archive-download\n",
      "https://www.polygon.com/2018/8/17/17715236/twitch-messages-glitch-archive-download\n",
      "https://www.polygon.com/users/Julia%20Alexander\n",
      "https://www.polygon.com/2018/8/17/17715236/twitch-messages-glitch-archive-download#comments\n",
      "None\n",
      "https://www.polygon.com/2018/8/17/17715108/vampyr-tv-dontnod-fox-21\n",
      "https://www.polygon.com/2018/8/17/17715108/vampyr-tv-dontnod-fox-21\n",
      "https://www.polygon.com/users/mikemcwhertor\n",
      "https://www.polygon.com/2018/8/17/17715108/vampyr-tv-dontnod-fox-21#comments\n",
      "None\n",
      "https://www.polygon.com/2018/8/16/17704978/smash-mouth-smashing-pumpkins-shrek-soundtrack-billy-corgan-dreamworks\n",
      "https://www.polygon.com/2018/8/16/17704978/smash-mouth-smashing-pumpkins-shrek-soundtrack-billy-corgan-dreamworks\n",
      "https://www.polygon.com/users/Julia%20Alexander\n",
      "https://www.polygon.com/2018/8/16/17704978/smash-mouth-smashing-pumpkins-shrek-soundtrack-billy-corgan-dreamworks#comments\n",
      "None\n",
      "https://www.polygon.com/comics/2018/8/16/17693340/infinity-wars-2-comic-gamora-stones-warps\n",
      "https://www.polygon.com/comics/2018/8/16/17693340/infinity-wars-2-comic-gamora-stones-warps\n",
      "https://www.polygon.com/users/Kieran%20Shiach\n",
      "https://www.polygon.com/comics/2018/8/16/17693340/infinity-wars-2-comic-gamora-stones-warps#comments\n",
      "None\n",
      "https://www.polygon.com/2018/7/25/17593516/video-game-culture-toxic-men-explained\n",
      "https://www.polygon.com/covers\n",
      "https://www.polygon.com/2018/7/25/17593516/video-game-culture-toxic-men-explained\n",
      "https://www.polygon.com/users/Colin%20Campbell\n",
      "None\n",
      "https://www.polygon.com/features/2018/8/8/17588846/greg-miller-interview-kinda-funny\n",
      "https://www.polygon.com/features\n",
      "https://www.polygon.com/features/2018/8/8/17588846/greg-miller-interview-kinda-funny\n",
      "https://www.polygon.com/users/Colin%20Campbell\n",
      "https://www.polygon.com/features/2018/8/8/17588846/greg-miller-interview-kinda-funny#comments\n",
      "None\n",
      "https://www.polygon.com/2018/8/16/17704024/warhammer-40000-genestealer-cult-cheapest-way-to-play\n",
      "https://www.polygon.com/2018/8/16/17704024/warhammer-40000-genestealer-cult-cheapest-way-to-play\n",
      "https://www.polygon.com/users/Charlie%20Hall\n",
      "https://www.polygon.com/2018/8/16/17704024/warhammer-40000-genestealer-cult-cheapest-way-to-play#comments\n",
      "None\n",
      "https://www.polygon.com/2018/8/16/17698984/diablo-sequels-blizzard-future\n",
      "https://www.polygon.com/2018/8/16/17698984/diablo-sequels-blizzard-future\n",
      "https://www.polygon.com/users/Ben%20Kuchera\n",
      "https://www.polygon.com/2018/8/16/17698984/diablo-sequels-blizzard-future#comments\n",
      "None\n",
      "https://www.polygon.com/2018/7/25/17593516/video-game-culture-toxic-men-explained\n",
      "https://www.polygon.com/covers\n",
      "https://www.polygon.com/2018/7/25/17593516/video-game-culture-toxic-men-explained\n",
      "https://www.polygon.com/users/Colin%20Campbell\n",
      "None\n",
      "https://www.polygon.com/comics/2018/8/16/17683976/batman-53-mr-freeze-bruce-wayne-jury\n",
      "https://www.polygon.com/comics/2018/8/16/17683976/batman-53-mr-freeze-bruce-wayne-jury\n",
      "https://www.polygon.com/users/Susana%20Polo\n",
      "https://www.polygon.com/comics/2018/8/16/17683976/batman-53-mr-freeze-bruce-wayne-jury#comments\n",
      "None\n",
      "https://www.polygon.com/2018/8/16/17688840/holedown-ios-android-brick-breaker-grapefrukt-games\n",
      "https://www.polygon.com/2018/8/16/17688840/holedown-ios-android-brick-breaker-grapefrukt-games\n",
      "https://www.polygon.com/users/Petrana%20Radulovic\n",
      "https://www.polygon.com/2018/8/16/17688840/holedown-ios-android-brick-breaker-grapefrukt-games#comments\n",
      "None\n",
      "https://www.polygon.com/tv/2018/8/16/17698024/voltron-adam-controversy-netflix-queerbaiting-dos-santos-letter\n",
      "https://www.polygon.com/tv/2018/8/16/17698024/voltron-adam-controversy-netflix-queerbaiting-dos-santos-letter\n",
      "https://www.polygon.com/users/PalmerHaasch\n",
      "https://www.polygon.com/tv/2018/8/16/17698024/voltron-adam-controversy-netflix-queerbaiting-dos-santos-letter#comments\n",
      "None\n",
      "https://www.polygon.com/2018/8/16/17698508/nintendo-switch-sale-mario-tennis-aces-zelda-breath-of-the-wild-amazon\n",
      "https://www.polygon.com/2018/8/16/17698508/nintendo-switch-sale-mario-tennis-aces-zelda-breath-of-the-wild-amazon\n",
      "https://www.polygon.com/users/Emily%20Heller\n",
      "https://www.polygon.com/2018/8/16/17698508/nintendo-switch-sale-mario-tennis-aces-zelda-breath-of-the-wild-amazon#comments\n",
      "None\n",
      "https://www.polygon.com/2018/7/30/17621870/comedy-twitter-james-gunn-dan-harmon-jokes\n",
      "https://www.polygon.com/2018/7/30/17621870/comedy-twitter-james-gunn-dan-harmon-jokes\n",
      "https://www.polygon.com/users/Julia%20Alexander\n",
      "https://www.polygon.com/2018/7/30/17621870/comedy-twitter-james-gunn-dan-harmon-jokes#comments\n",
      "None\n",
      "https://www.polygon.com/nintendo-switch/2018/8/16/17698464/keep-talking-and-nobody-explodes-nintendo-switch\n",
      "https://www.polygon.com/nintendo-switch/2018/8/16/17698464/keep-talking-and-nobody-explodes-nintendo-switch\n",
      "https://www.polygon.com/users/Charlie%20Hall\n",
      "https://www.polygon.com/nintendo-switch/2018/8/16/17698464/keep-talking-and-nobody-explodes-nintendo-switch#comments\n",
      "None\n",
      "https://www.polygon.com/2018/8/16/17698558/nintendo-switch-eshop-games-list-monster-hunter\n",
      "https://www.polygon.com/2018/8/16/17698558/nintendo-switch-eshop-games-list-monster-hunter\n",
      "https://www.polygon.com/users/Allegra%20Frank\n",
      "https://www.polygon.com/2018/8/16/17698558/nintendo-switch-eshop-games-list-monster-hunter#comments\n",
      "None\n",
      "https://www.polygon.com/2018/8/16/17690788/diablo-3-nintendo-switch-release-date-price-eternal-collection-zelda\n",
      "https://www.polygon.com/2018/8/16/17690788/diablo-3-nintendo-switch-release-date-price-eternal-collection-zelda\n",
      "https://www.polygon.com/users/mikemcwhertor\n",
      "https://www.polygon.com/2018/8/16/17690788/diablo-3-nintendo-switch-release-date-price-eternal-collection-zelda#comments\n",
      "None\n",
      "https://www.polygon.com/2018/8/16/17674972/spider-man-venom-spider-verse-movies-sony-marvel-universe\n",
      "https://www.polygon.com/2018/8/16/17674972/spider-man-venom-spider-verse-movies-sony-marvel-universe\n",
      "https://www.polygon.com/users/Petrana%20Radulovic\n",
      "https://www.polygon.com/users/PalmerHaasch\n",
      "https://www.polygon.com/2018/8/16/17674972/spider-man-venom-spider-verse-movies-sony-marvel-universe#comments\n",
      "None\n",
      "https://www.polygon.com/2018/8/16/17698854/nba-2k-league-expansion-teams-playoffs\n",
      "https://www.polygon.com/2018/8/16/17698854/nba-2k-league-expansion-teams-playoffs\n",
      "http://www.polygon.com/users/Owen%20S.%20Good\n",
      "https://www.polygon.com/2018/8/16/17698854/nba-2k-league-expansion-teams-playoffs#comments\n",
      "None\n",
      "https://www.polygon.com/2018/8/16/17698862/pokemon-go-celebi-research-task-how-to-get\n",
      "https://www.polygon.com/2018/8/16/17698862/pokemon-go-celebi-research-task-how-to-get\n",
      "https://www.polygon.com/users/Allegra%20Frank\n",
      "https://www.polygon.com/2018/8/16/17698862/pokemon-go-celebi-research-task-how-to-get#comments\n",
      "None\n",
      "http://www.voxmedia.com/careers\n",
      "http://www.voxmedia.com/careers\n",
      "http://www.voxmedia.com/careers\n",
      "/esports\n",
      "https://www.riftherald.com/2018/8/17/17704438/2018-na-lcs-summer-split-week-9-schedule-preview\n",
      "https://www.riftherald.com/lol-worlds/2018/8/17/17701842/lol-worlds-2018-venues-south-korea\n",
      "https://www.heroesneverdie.com/2018/8/16/17698980/south-korea-stage-overwatch-world-cup-qualifiers-livestream-schedule\n",
      "/esports\n",
      "https://www.polygon.com/archives\n",
      "/\n",
      "https://www.voxmedia.com/terms-of-use\n",
      "https://www.voxmedia.com/privacy-policy\n",
      "https://www.voxmedia.com/pages/cookie-policy\n",
      "https://www.voxmedia.com/pages/gdpr-commitment\n",
      "https://www.voxmedia.com/communications-preferences\n",
      "/contact\n",
      "/contact#tip\n",
      "/pages/community-guidelines\n",
      "/masthead\n",
      "http://status.voxmedia.com\n",
      "http://www.voxmedia.com\n",
      "https://www.voxmedia.com/vox-advertising\n",
      "https://jobs.voxmedia.com\n",
      "http://www.voxmedia.com\n"
     ]
    }
   ],
   "source": [
    "'''Obtener los links (tag=a)'''\n",
    "for link in soup.find_all('a'):\n",
    "    print(link.get('href'))"
   ]
  }
 ],
 "metadata": {
  "kernelspec": {
   "display_name": "Python 3",
   "language": "python",
   "name": "python3"
  },
  "language_info": {
   "codemirror_mode": {
    "name": "ipython",
    "version": 3
   },
   "file_extension": ".py",
   "mimetype": "text/x-python",
   "name": "python",
   "nbconvert_exporter": "python",
   "pygments_lexer": "ipython3",
   "version": "3.6.4"
  }
 },
 "nbformat": 4,
 "nbformat_minor": 2
}
