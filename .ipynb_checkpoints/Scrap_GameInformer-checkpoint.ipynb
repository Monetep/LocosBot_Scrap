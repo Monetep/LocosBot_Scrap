{
 "cells": [
  {
   "cell_type": "markdown",
   "metadata": {},
   "source": [
    "Objetivos de este NB:\n",
    "    -Obtener todos los links de la front page de Polygon.com. COMPLETO\n",
    "    -Entrar a cada uno de los links, y obtener el titulo, y el texto de cada uno. COMPLETO\n",
    "    -Dejar en un formato tabular la informacion con las siguientes columnas: COMPLETO\n",
    "        -Pagina\n",
    "        -Titulo\n",
    "        -Subtitulo\n",
    "        -Parrafos_n"
   ]
  },
  {
   "cell_type": "code",
   "execution_count": 75,
   "metadata": {},
   "outputs": [
    {
     "name": "stderr",
     "output_type": "stream",
     "text": [
      "100%|██████████| 42/42 [02:04<00:00,  2.97s/it]\n"
     ]
    }
   ],
   "source": [
    "from bs4 import BeautifulSoup\n",
    "from urllib.request import Request, urlopen\n",
    "import pandas as pd\n",
    "import random\n",
    "import time\n",
    "import datetime\n",
    "from tqdm import tqdm\n",
    "\n",
    "site_o= \"https://www.gameinformer.com\"\n",
    "site= [\"https://www.gameinformer.com/index.php/news\", \"https://www.gameinformer.com/index.php/reviews\"]\n",
    "hdr = {'User-Agent': 'Mozilla/5.0'}\n",
    "\n",
    "final = pd.DataFrame()\n",
    "pt = []\n",
    "\n",
    "for i in range(len(site)):\n",
    "    req = Request(site[i],headers=hdr)\n",
    "    page = urlopen(req)\n",
    "    soup = BeautifulSoup(page, 'html.parser')\n",
    "    page_title = soup.select(\"h2.page-title a\")\n",
    "    \n",
    "    for i in range(0, len(page_title)):\n",
    "        pt.append(page_title[i].get('href'))\n",
    "    \n",
    "links = pd.DataFrame({\n",
    "        \"links\": pt\n",
    "    })\n",
    "\n",
    "links['links'] = str(site_o) + links['links'].astype(str)\n",
    "no_dupli_gi = links['links'].drop_duplicates().reset_index(drop=True)\n",
    "\n",
    "def scrapeo_gameinformer(review):\n",
    "    req = Request(review,headers=hdr)\n",
    "    page = urlopen(req)\n",
    "    soup = BeautifulSoup(page, 'html.parser')\n",
    "    \n",
    "    title = soup.select(\"h1\")[0].get_text()\n",
    "    try:\n",
    "        subt = soup.select(\"div.subtitle\")[0].get_text().strip()\n",
    "    except:\n",
    "        subt = review\n",
    "    \n",
    "    pars = soup.find_all('p')\n",
    "    parragraphs = [p.get_text() for p in pars]\n",
    "\n",
    "    p_final = []\n",
    "    for i in range(0, len(parragraphs)):\n",
    "        if parragraphs[i] == '\\nView the discussion thread.\\n':\n",
    "            break\n",
    "        elif (parragraphs[i] != ''):\n",
    "            p_final.append(parragraphs[i])\n",
    "        \n",
    "    almacenado = pd.DataFrame({\n",
    "            \"site\": '',\n",
    "            \"title\": '',\n",
    "            \"subtitle\": '',\n",
    "            \"parrafo\": p_final\n",
    "        })   \n",
    "    almacenado['site'] = site_o\n",
    "    almacenado['title'] = title\n",
    "    almacenado['subtitle'] = subt\n",
    "    \n",
    "    return almacenado\n",
    "\n",
    "for i in tqdm(range(0, len(no_dupli_gi))):    \n",
    "    final = final.append(scrapeo_gameinformer(no_dupli_gi[i]))\n",
    "    time.sleep(random.randint(1, 2)) \n",
    "    \n",
    "file_time = 'ginformer_scrap_{date:%Y-%m-%d_%H_%M_%S}.csv'.format(date=datetime.datetime.now())              \n",
    "final.to_csv(file_time, sep='|', index=False)"
   ]
  },
  {
   "cell_type": "code",
   "execution_count": 67,
   "metadata": {},
   "outputs": [],
   "source": [
    "    almacenado['title'] = title\n",
    "    almacenado['subtitle'] = subt"
   ]
  },
  {
   "cell_type": "markdown",
   "metadata": {},
   "source": [
    "Desde acá comienza el nb para desarrollo."
   ]
  },
  {
   "cell_type": "code",
   "execution_count": 35,
   "metadata": {},
   "outputs": [],
   "source": [
    "from bs4 import BeautifulSoup\n",
    "from urllib.request import Request, urlopen\n",
    "import pandas as pd\n",
    "import random\n",
    "import time\n",
    "import datetime\n",
    "pd.options.display.max_colwidth = 200"
   ]
  },
  {
   "cell_type": "code",
   "execution_count": 36,
   "metadata": {},
   "outputs": [],
   "source": [
    "site_o= \"https://www.gameinformer.com\"\n",
    "site= [\"https://www.gameinformer.com/index.php/news\", \"https://www.gameinformer.com/index.php/reviews\"]\n"
   ]
  },
  {
   "cell_type": "code",
   "execution_count": 37,
   "metadata": {},
   "outputs": [
    {
     "data": {
      "text/plain": [
       "200"
      ]
     },
     "execution_count": 37,
     "metadata": {},
     "output_type": "execute_result"
    }
   ],
   "source": [
    "hdr = {'User-Agent': 'Mozilla/5.0'}\n",
    "req = Request(site[1],headers=hdr)\n",
    "page = urlopen(req)\n",
    "soup = BeautifulSoup(page, 'html.parser')\n",
    "page.status"
   ]
  },
  {
   "cell_type": "code",
   "execution_count": 40,
   "metadata": {},
   "outputs": [],
   "source": [
    "page_title = soup.select(\"h2.page-title a\")\n",
    "pt = []\n",
    "\n",
    "for i in range(0, len(page_title)):\n",
    "    pt.append(page_title[i].get('href'))\n",
    "    \n",
    "links = pd.DataFrame({\n",
    "        \"links\": pt\n",
    "    })"
   ]
  },
  {
   "cell_type": "code",
   "execution_count": 41,
   "metadata": {},
   "outputs": [
    {
     "data": {
      "text/plain": [
       "0                      https://www.gameinformer.com/index.php/review/dragon-quest-xi-echoes-of-an-elusive-age/relying-on-the-past\n",
       "1                                             https://www.gameinformer.com/index.php/review/two-point-hospital/a-bittersweet-pill\n",
       "2                                        https://www.gameinformer.com/index.php/review/pro-evolution-soccer-2019/moments-of-magic\n",
       "3                                                           https://www.gameinformer.com/review/the-messenger/a-tale-of-two-games\n",
       "4                                https://www.gameinformer.com/review/dragon-quest-xi-echoes-of-an-elusive-age/relying-on-the-past\n",
       "5                                              https://www.gameinformer.com/review/donut-county/controlling-a-compelling-nuisance\n",
       "6                                                          https://www.gameinformer.com/review/yakuza-kiwami-2/leader-of-the-pack\n",
       "7                                                            https://www.gameinformer.com/review/little-dragons-cafe/shut-it-down\n",
       "8                                   https://www.gameinformer.com/review/guacamelee-2/an-excellent-but-familiar-return-to-the-ring\n",
       "9                  https://www.gameinformer.com/review/world-of-warcraft-battle-for-azeroth/successfully-landing-on-stormy-shores\n",
       "10                                                                 https://www.gameinformer.com/review/f1-2018/a-real-team-effort\n",
       "11                                                https://www.gameinformer.com/review/phantom-doctrine/a-slow-but-satisfying-burn\n",
       "12                                         https://www.gameinformer.com/review/hollow-knight/tough-battles-in-an-infected-kingdom\n",
       "13    https://www.gameinformer.com/review/the-walking-dead-the-final-season-episode-1/a-disappointing-start-to-clementines-finale\n",
       "14                                                https://www.gameinformer.com/review/we-happy-few/the-high-is-worth-the-comedown\n",
       "15                                                                   https://www.gameinformer.com/review/dauntless/a-prosaic-peak\n",
       "16                                               https://www.gameinformer.com/review/monster-hunter-world/a-fertile-new-ecosystem\n",
       "17                                       https://www.gameinformer.com/review/overcooked-2/another-tasty-bite-thats-easier-to-chew\n",
       "18                                              https://www.gameinformer.com/review/dead-cells/one-of-the-best-roguelikes-to-date\n",
       "19                       https://www.gameinformer.com/index.php/review/madden-nfl-19/the-ups-and-downs-of-another-gripping-season\n",
       "20                                           https://www.gameinformer.com/review/the-banner-saga-3/a-brutal-end-to-a-long-journey\n",
       "Name: links, dtype: object"
      ]
     },
     "execution_count": 41,
     "metadata": {},
     "output_type": "execute_result"
    }
   ],
   "source": [
    "links['links'] = str(site_o) + links['links'].astype(str)\n",
    "no_dupli_gi = links['links'].drop_duplicates().reset_index(drop=True)"
   ]
  },
  {
   "cell_type": "code",
   "execution_count": 51,
   "metadata": {},
   "outputs": [
    {
     "data": {
      "text/plain": [
       "200"
      ]
     },
     "execution_count": 51,
     "metadata": {},
     "output_type": "execute_result"
    }
   ],
   "source": [
    "req = Request(\"https://www.gameinformer.com/index.php/review/dragon-quest-xi-echoes-of-an-elusive-age/relying-on-the-past\",headers=hdr)\n",
    "page = urlopen(req)\n",
    "soup = BeautifulSoup(page, 'html.parser')\n",
    "page.status"
   ]
  },
  {
   "cell_type": "code",
   "execution_count": 52,
   "metadata": {},
   "outputs": [
    {
     "name": "stdout",
     "output_type": "stream",
     "text": [
      "Dragon Quest XI: Echoes of an Elusive Age\n",
      "Relying On The Past\n"
     ]
    }
   ],
   "source": [
    "#Title\n",
    "title = soup.select(\"h1\")[0].get_text()\n",
    "print(title)\n",
    "#Subtitle\n",
    "subt = soup.select(\"div.subtitle\")[0].get_text()\n",
    "print(subt.strip())"
   ]
  },
  {
   "cell_type": "code",
   "execution_count": 53,
   "metadata": {},
   "outputs": [
    {
     "data": {
      "text/plain": [
       "[\"As the longest-running Japanese RPG series, Dragon Quest has never strayed too far from its classic roots. If you’re a fan, you know what to expect: turn-based combat, a silent protagonist, and a grand adventure to save the world. In some ways, this franchise shows its age. In others, it’s a great reminder of what made RPGs fun in the first place, with epic boss battles, hidden treasure, and party members who grow on and off the battlefield.\\xa0Dragon Quest XI retains this satisfying progression, but it doesn't\\xa0reinvent or modernize the series.\",\n",
       " 'Saving the world is a common goal in gaming; who doesn’t want to be a hero and overcome daunting odds? Dragon Quest XI embraces this fully. You play as “The Luminary,” a boy fated from birth to be the savior from dark forces threatening the land. The plot isn’t groundbreaking and takes its sweet time to get going, but some clever twists along the way make your patience pay off. Moreover, the way party members come together is well done, especially as you explore their backstories and discover why they ended up on the path to help. While there are plenty of dramatic moments, the game doesn’t take itself too seriously; the series’ trademark humor is intact, including the lighthearted NPC dialogue, silly costumes, and pun-filled monster names.\\xa0',\n",
       " 'The core gameplay remains simple but fun, showing that the turn-based combat can still be intense. I especially love the challenging boss battles. Outsmarting your opponent requires using buffs, focusing on healing, and making the most of your pep powers. The latter is like the tension system in previous games, randomly activating a temporary heightened state\\xa0to land criticals and perform powerful combo attacks. Pep powers require you to make the most of your turns due to their unpredictable nature. I enjoyed using them to play into my strategy, leveraging my powerful state for as long as possible by using normal strikes before I unleashed my combo attacks, since that ends the character’s pep state.',\n",
       " 'You can only have four active members in your party, but you have multiple heroes to choose from to suit your play style. I appreciate the variety of the weapons and specialties each one adds to the mix. For instance, Erik is a thief focused on trickery and agility, while a support character like Serena has restorative magic and buffs. The members all feel balanced, having their own strengths and weaknesses, giving you a lot of options for your loadout. Serena may be a mage, but she can still wield a spear to make her more attack-oriented.\\xa0',\n",
       " 'Characters automatically receive new skills and stat boosts, but you also have some control over their growth via the character builder. Leveling up grants you points that unlock new attributes, like more proficiency with a weapon, restoring MP after battle, or taking advantage of specialty skills. For instance, Sylvando is a showman, so you can exploit his charm abilities. This new, accessible skill system works well, as it lets you focus on specific categories for each character by unlocking nodes on a hexagonal grid that then open up more options for battle. I loved saving up my skill points and watching the dividends pay off with game-changing abilities, whether it was a new devastating attack or gaining the chance to cast two spells in a row for the cost of one. Throw in collecting materials to forge better armor, and you’re always shooting for the next best thing, which provides motivation to explore.\\xa0',\n",
       " 'With activities like gambling, treasure hunts, and locating collectibles, the world has plenty to do – but it’s just not impressive. The side content is mostly tedious fetch quests. In addition, everything feels behind the times. The length between save points can be brutal, and sometimes you can lose a whole dungeon’s worth of progress by hitting the challenging end boss with no save point in sight. Some late bosses require grinding if you want to succeed; I thrive on challenging bosses that test my mastery of the battle system, but even if you play your cards just right, sometimes it just comes down to needing to gain levels in these battles of attrition.\\xa0',\n",
       " 'Thankfully, some more archaic elements have been improved, such as a handy heal button that automatically restores health and cures status ailments in the most optimal way possible for the party. Fast travel is at its best, as you no longer have to be out of a dungeon to take advantage of it with the Zoom spell. You can also mount various creatures and they are cleverly used in dungeons, whether they help you charge to break walls, jump to high ledges, or fly over water. That being said, the recycled dungeons (especially once on the true ending path) almost killed my enthusiasm to keep playing. The game demands you put up with some repetition to get to its sweeter rewards.\\xa0',\n",
       " 'Dragon Quest XI stays true to the series’ sense of adventure, and the long journey culminates in something cool for longtime fans (be sure to reload your save after the credits roll). I had my share of fun, especially as someone who grew up with the franchise and could appreciate the callbacks littered throughout. At times, I was glued to my controller as I discovered the next village, plot revelation, or impressive boss. Dragon Quest has stuck around for a reason: It does what it does well, and the formula still works. However, Dragon Quest XI’s lack of evolution is a hindrance. It’s about time the series took some risks.',\n",
       " '\\nView the discussion thread.\\n',\n",
       " '© 1991 to \\n  document.write(new Date().getFullYear());\\n Game Informer. All Rights Reserved.']"
      ]
     },
     "execution_count": 53,
     "metadata": {},
     "output_type": "execute_result"
    }
   ],
   "source": [
    "#Parragraphs\n",
    "pars = soup.find_all('p')\n",
    "parragraphs = [p.get_text() for p in pars]\n",
    "\n",
    "p_final = []\n",
    "for i in range(0, len(parragraphs)):   \n",
    "    if (parragraphs[i] != ''):\n",
    "        p_final.append(parragraphs[i])\n",
    "\n",
    "p_final"
   ]
  },
  {
   "cell_type": "code",
   "execution_count": 56,
   "metadata": {},
   "outputs": [
    {
     "data": {
      "text/plain": [
       "[\"As the longest-running Japanese RPG series, Dragon Quest has never strayed too far from its classic roots. If you’re a fan, you know what to expect: turn-based combat, a silent protagonist, and a grand adventure to save the world. In some ways, this franchise shows its age. In others, it’s a great reminder of what made RPGs fun in the first place, with epic boss battles, hidden treasure, and party members who grow on and off the battlefield.\\xa0Dragon Quest XI retains this satisfying progression, but it doesn't\\xa0reinvent or modernize the series.\",\n",
       " 'Saving the world is a common goal in gaming; who doesn’t want to be a hero and overcome daunting odds? Dragon Quest XI embraces this fully. You play as “The Luminary,” a boy fated from birth to be the savior from dark forces threatening the land. The plot isn’t groundbreaking and takes its sweet time to get going, but some clever twists along the way make your patience pay off. Moreover, the way party members come together is well done, especially as you explore their backstories and discover why they ended up on the path to help. While there are plenty of dramatic moments, the game doesn’t take itself too seriously; the series’ trademark humor is intact, including the lighthearted NPC dialogue, silly costumes, and pun-filled monster names.\\xa0',\n",
       " 'The core gameplay remains simple but fun, showing that the turn-based combat can still be intense. I especially love the challenging boss battles. Outsmarting your opponent requires using buffs, focusing on healing, and making the most of your pep powers. The latter is like the tension system in previous games, randomly activating a temporary heightened state\\xa0to land criticals and perform powerful combo attacks. Pep powers require you to make the most of your turns due to their unpredictable nature. I enjoyed using them to play into my strategy, leveraging my powerful state for as long as possible by using normal strikes before I unleashed my combo attacks, since that ends the character’s pep state.',\n",
       " 'You can only have four active members in your party, but you have multiple heroes to choose from to suit your play style. I appreciate the variety of the weapons and specialties each one adds to the mix. For instance, Erik is a thief focused on trickery and agility, while a support character like Serena has restorative magic and buffs. The members all feel balanced, having their own strengths and weaknesses, giving you a lot of options for your loadout. Serena may be a mage, but she can still wield a spear to make her more attack-oriented.\\xa0',\n",
       " 'Characters automatically receive new skills and stat boosts, but you also have some control over their growth via the character builder. Leveling up grants you points that unlock new attributes, like more proficiency with a weapon, restoring MP after battle, or taking advantage of specialty skills. For instance, Sylvando is a showman, so you can exploit his charm abilities. This new, accessible skill system works well, as it lets you focus on specific categories for each character by unlocking nodes on a hexagonal grid that then open up more options for battle. I loved saving up my skill points and watching the dividends pay off with game-changing abilities, whether it was a new devastating attack or gaining the chance to cast two spells in a row for the cost of one. Throw in collecting materials to forge better armor, and you’re always shooting for the next best thing, which provides motivation to explore.\\xa0',\n",
       " 'With activities like gambling, treasure hunts, and locating collectibles, the world has plenty to do – but it’s just not impressive. The side content is mostly tedious fetch quests. In addition, everything feels behind the times. The length between save points can be brutal, and sometimes you can lose a whole dungeon’s worth of progress by hitting the challenging end boss with no save point in sight. Some late bosses require grinding if you want to succeed; I thrive on challenging bosses that test my mastery of the battle system, but even if you play your cards just right, sometimes it just comes down to needing to gain levels in these battles of attrition.\\xa0',\n",
       " 'Thankfully, some more archaic elements have been improved, such as a handy heal button that automatically restores health and cures status ailments in the most optimal way possible for the party. Fast travel is at its best, as you no longer have to be out of a dungeon to take advantage of it with the Zoom spell. You can also mount various creatures and they are cleverly used in dungeons, whether they help you charge to break walls, jump to high ledges, or fly over water. That being said, the recycled dungeons (especially once on the true ending path) almost killed my enthusiasm to keep playing. The game demands you put up with some repetition to get to its sweeter rewards.\\xa0',\n",
       " 'Dragon Quest XI stays true to the series’ sense of adventure, and the long journey culminates in something cool for longtime fans (be sure to reload your save after the credits roll). I had my share of fun, especially as someone who grew up with the franchise and could appreciate the callbacks littered throughout. At times, I was glued to my controller as I discovered the next village, plot revelation, or impressive boss. Dragon Quest has stuck around for a reason: It does what it does well, and the formula still works. However, Dragon Quest XI’s lack of evolution is a hindrance. It’s about time the series took some risks.']"
      ]
     },
     "execution_count": 56,
     "metadata": {},
     "output_type": "execute_result"
    }
   ],
   "source": [
    "p_final = []\n",
    "for i in range(0, len(parragraphs)):\n",
    "    if parragraphs[i] == '\\nView the discussion thread.\\n':\n",
    "        break\n",
    "    elif (parragraphs[i] != ''):\n",
    "        p_final.append(parragraphs[i])\n",
    "\n",
    "p_final"
   ]
  },
  {
   "cell_type": "code",
   "execution_count": 63,
   "metadata": {},
   "outputs": [
    {
     "data": {
      "text/plain": [
       "0                    https://www.polygon.com/2018/8/20/17760038/nvidia-geforce-rtx-2080-ti-2070-specs-release-date-price-turing\n",
       "1     https://www.polygon.com/2018/8/20/17761598/nvidia-rtx-real-time-ray-tracing-video-battlefield-5-shadow-of-the-tomb-raider\n",
       "2                                https://www.polygon.com/2018/8/20/17760782/world-of-warcraft-battle-for-azeroth-faction-change\n",
       "3                                   https://www.polygon.com/features/2018/8/17/17705486/revisiting-the-order-1886-ready-at-dawn\n",
       "4                                                   https://www.polygon.com/2018/8/20/17759932/life-is-strange-2-trailer-reveal\n",
       "5                                         https://www.polygon.com/2018/8/20/17761410/twitch-prime-no-more-ad-free-viewing-turbo\n",
       "6                                         https://www.polygon.com/2018/8/20/17761394/amazon-prime-video-game-pre-order-discount\n",
       "7         https://www.polygon.com/interviews/2018/8/20/17697562/world-of-warcraft-vindicaar-spaceship-battle-for-azeroth-legion\n",
       "8                                                     https://www.polygon.com/2018/8/18/17724894/f1-2018-review-pc-ps4-xbox-one\n",
       "9                                                https://www.polygon.com/2018/8/9/17670428/madden-nfl-19-review-ps4-xbox-one-pc\n",
       "10                              https://www.polygon.com/2018/8/9/17669136/we-happy-few-review-xbox-one-playstation-4-windows-pc\n",
       "11                                           https://www.polygon.com/videos/2018/8/14/17686370/luigi-nintendo-punching-bag-joke\n",
       "12                             https://www.polygon.com/2018/8/17/17705568/harry-potter-fan-fiction-musical-puppet-pals-creators\n",
       "13                                             https://www.polygon.com/2018/8/20/17760450/sekiro-shadows-die-twice-release-date\n",
       "15        https://www.polygon.com/2018/8/20/17758972/jeffree-star-laura-lee-gabriel-zamora-nikita-dragun-youtube-beauty-vlogger\n",
       "16                                 https://www.polygon.com/2018/8/20/17760030/bloodstained-release-date-delayed-ps-vita-version\n",
       "18                         https://www.polygon.com/comics/2018/8/13/17676792/new-sandman-neil-gaiman-dc-comics-vertigo-universe\n",
       "19                               https://www.polygon.com/2018/8/20/17722598/little-mermaid-2018-remake-netflix-streaming-disney\n",
       "20                                           https://www.polygon.com/2018/8/20/17759828/dead-or-alive-6-leifang-hitomi-gameplay\n",
       "21                                          https://www.polygon.com/2018/8/17/17702466/graveyard-keeper-farming-sim-pc-xbox-one\n",
       "22                                    https://www.polygon.com/2018/8/20/17759488/paradox-stellaris-console-edition-ps4-xbox-one\n",
       "23                                         https://www.polygon.com/2018/8/20/17759490/nintendo-eshop-new-games-schedule-nindies\n",
       "24                                                 https://www.polygon.com/2018/8/20/17759104/ps4-controller-colors-dualshock-4\n",
       "25                                     https://www.polygon.com/2018/8/20/17759376/hitman-2-legacy-pack-season-one-maps-free-dlc\n",
       "27                                     https://www.polygon.com/guides/2018/1/25/16911176/monster-hunter-world-guide-walkthrough\n",
       "29                                https://www.polygon.com/2018/8/20/17757074/dying-light-bad-blood-launch-steam-early-access-pc\n",
       "30                                       https://www.polygon.com/2018/8/19/17756966/tomb-raider-enemies-trailer-ps4-xbox-one-pc\n",
       "31               https://www.polygon.com/2018/8/19/17756692/metal-gear-solid-anniversary-video-david-hayter-jordan-vogt-roberts\n",
       "32                                         https://www.polygon.com/features/2018/8/8/17588846/greg-miller-interview-kinda-funny\n",
       "33                                            https://www.polygon.com/2018/8/19/17756256/overwatch-free-weekend-ps4-xbox-one-pc\n",
       "34                                  https://www.polygon.com/2018/8/19/17756092/forza-horizon-2-removed-xbox-store-date-xbox-one\n",
       "35                                            https://www.polygon.com/2018/7/25/17593516/video-game-culture-toxic-men-explained\n",
       "36          https://www.polygon.com/2018/8/18/17702072/best-gaming-deals-nintendo-switch-super-mario-odyssey-breath-of-the-wild\n",
       "37                        https://www.polygon.com/2018/8/18/17752466/fifa-19-stadiums-list-la-liga-ps4-xbox-one-nintendo-switch\n",
       "38                                 https://www.polygon.com/2018/8/18/17750680/project-hardcore-dice-genesis-release-ps4-ps-vita\n",
       "39                                                    https://www.polygon.com/tv/2018/8/18/17748068/netflix-video-promo-feature\n",
       "40                                        https://www.polygon.com/2018/7/30/17621870/comedy-twitter-james-gunn-dan-harmon-jokes\n",
       "41                          https://www.polygon.com/2018/8/18/17746688/grand-theft-auto-5-menyoo-absolute-cheats-banned-lawsuit\n",
       "Name: links, dtype: object"
      ]
     },
     "execution_count": 63,
     "metadata": {},
     "output_type": "execute_result"
    }
   ],
   "source": [
    "no_dupli_poly"
   ]
  },
  {
   "cell_type": "code",
   "execution_count": 76,
   "metadata": {},
   "outputs": [
    {
     "name": "stdout",
     "output_type": "stream",
     "text": [
      "https://www.polygon.com/2018/8/20/17760038/nvidia-geforce-rtx-2080-ti-2070-specs-release-date-price-turing\n",
      "https://www.polygon.com/2018/8/20/17761598/nvidia-rtx-real-time-ray-tracing-video-battlefield-5-shadow-of-the-tomb-raider\n",
      "https://www.polygon.com/2018/8/20/17760782/world-of-warcraft-battle-for-azeroth-faction-change\n",
      "https://www.polygon.com/features/2018/8/17/17705486/revisiting-the-order-1886-ready-at-dawn\n",
      "https://www.polygon.com/2018/8/20/17759932/life-is-strange-2-trailer-reveal\n",
      "https://www.polygon.com/2018/8/20/17761410/twitch-prime-no-more-ad-free-viewing-turbo\n",
      "https://www.polygon.com/2018/8/20/17761394/amazon-prime-video-game-pre-order-discount\n",
      "https://www.polygon.com/interviews/2018/8/20/17697562/world-of-warcraft-vindicaar-spaceship-battle-for-azeroth-legion\n",
      "https://www.polygon.com/2018/8/18/17724894/f1-2018-review-pc-ps4-xbox-one\n",
      "https://www.polygon.com/2018/8/9/17670428/madden-nfl-19-review-ps4-xbox-one-pc\n",
      "https://www.polygon.com/2018/8/9/17669136/we-happy-few-review-xbox-one-playstation-4-windows-pc\n",
      "https://www.polygon.com/videos/2018/8/14/17686370/luigi-nintendo-punching-bag-joke\n",
      "https://www.polygon.com/2018/8/17/17705568/harry-potter-fan-fiction-musical-puppet-pals-creators\n",
      "https://www.polygon.com/2018/8/20/17760450/sekiro-shadows-die-twice-release-date\n",
      "https://www.polygon.com/2018/8/20/17758972/jeffree-star-laura-lee-gabriel-zamora-nikita-dragun-youtube-beauty-vlogger\n",
      "https://www.polygon.com/2018/8/20/17760030/bloodstained-release-date-delayed-ps-vita-version\n",
      "https://www.polygon.com/comics/2018/8/13/17676792/new-sandman-neil-gaiman-dc-comics-vertigo-universe\n",
      "https://www.polygon.com/2018/8/20/17722598/little-mermaid-2018-remake-netflix-streaming-disney\n",
      "https://www.polygon.com/2018/8/20/17759828/dead-or-alive-6-leifang-hitomi-gameplay\n",
      "https://www.polygon.com/2018/8/17/17702466/graveyard-keeper-farming-sim-pc-xbox-one\n",
      "https://www.polygon.com/2018/8/20/17759488/paradox-stellaris-console-edition-ps4-xbox-one\n",
      "https://www.polygon.com/2018/8/20/17759490/nintendo-eshop-new-games-schedule-nindies\n",
      "https://www.polygon.com/2018/8/20/17759104/ps4-controller-colors-dualshock-4\n",
      "https://www.polygon.com/2018/8/20/17759376/hitman-2-legacy-pack-season-one-maps-free-dlc\n",
      "https://www.polygon.com/guides/2018/1/25/16911176/monster-hunter-world-guide-walkthrough\n",
      "https://www.polygon.com/2018/8/20/17757074/dying-light-bad-blood-launch-steam-early-access-pc\n",
      "https://www.polygon.com/2018/8/19/17756966/tomb-raider-enemies-trailer-ps4-xbox-one-pc\n",
      "https://www.polygon.com/2018/8/19/17756692/metal-gear-solid-anniversary-video-david-hayter-jordan-vogt-roberts\n",
      "https://www.polygon.com/features/2018/8/8/17588846/greg-miller-interview-kinda-funny\n",
      "https://www.polygon.com/2018/8/19/17756256/overwatch-free-weekend-ps4-xbox-one-pc\n",
      "https://www.polygon.com/2018/8/19/17756092/forza-horizon-2-removed-xbox-store-date-xbox-one\n",
      "https://www.polygon.com/2018/7/25/17593516/video-game-culture-toxic-men-explained\n",
      "https://www.polygon.com/2018/8/18/17702072/best-gaming-deals-nintendo-switch-super-mario-odyssey-breath-of-the-wild\n",
      "https://www.polygon.com/2018/8/18/17752466/fifa-19-stadiums-list-la-liga-ps4-xbox-one-nintendo-switch\n",
      "https://www.polygon.com/2018/8/18/17750680/project-hardcore-dice-genesis-release-ps4-ps-vita\n",
      "https://www.polygon.com/tv/2018/8/18/17748068/netflix-video-promo-feature\n",
      "https://www.polygon.com/2018/7/30/17621870/comedy-twitter-james-gunn-dan-harmon-jokes\n",
      "https://www.polygon.com/2018/8/18/17746688/grand-theft-auto-5-menyoo-absolute-cheats-banned-lawsuit\n"
     ]
    }
   ],
   "source": [
    "almacenado = pd.DataFrame({\n",
    "        \"site\": '',\n",
    "        \"title\": '',\n",
    "        \"subtitle\": '',\n",
    "        \"parrafo\": p_final\n",
    "    })   \n",
    "almacenado['site'] = site\n",
    "almacenado['title'] = title\n",
    "almacenado['subtitle'] = subt\n",
    "\n",
    "for k in range(0, len(no_dupli_poly)):\n",
    "    print(no_dupli_poly[k])\n",
    "    \n",
    "    "
   ]
  },
  {
   "cell_type": "code",
   "execution_count": null,
   "metadata": {},
   "outputs": [],
   "source": []
  }
 ],
 "metadata": {
  "kernelspec": {
   "display_name": "Python 3",
   "language": "python",
   "name": "python3"
  },
  "language_info": {
   "codemirror_mode": {
    "name": "ipython",
    "version": 3
   },
   "file_extension": ".py",
   "mimetype": "text/x-python",
   "name": "python",
   "nbconvert_exporter": "python",
   "pygments_lexer": "ipython3",
   "version": "3.6.4"
  }
 },
 "nbformat": 4,
 "nbformat_minor": 2
}
